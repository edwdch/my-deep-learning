{
 "cells": [
  {
   "cell_type": "code",
   "execution_count": 1,
   "metadata": {},
   "outputs": [
    {
     "name": "stderr",
     "output_type": "stream",
     "text": [
      "/home/linux/workspace/my-deep-learning/9.adaptive moment estimation/opt_utils.py:76: SyntaxWarning: assertion is always true, perhaps remove parentheses?\n",
      "  assert(parameters['W' + str(l)].shape == layer_dims[l], layer_dims[l-1])\n",
      "/home/linux/workspace/my-deep-learning/9.adaptive moment estimation/opt_utils.py:77: SyntaxWarning: assertion is always true, perhaps remove parentheses?\n",
      "  assert(parameters['W' + str(l)].shape == layer_dims[l], 1)\n"
     ]
    }
   ],
   "source": [
    "# 导入必需的库\n",
    "import numpy as np\n",
    "import matplotlib.pyplot as plt\n",
    "import scipy.io\n",
    "import math\n",
    "import sklearn\n",
    "import sklearn.datasets\n",
    "\n",
    "from opt_utils import load_params_and_grads, initialize_parameters, forward_propagation, backward_propagation\n",
    "from opt_utils import compute_cost, predict, predict_dec, plot_decision_boundary, load_dataset\n",
    "from testCases import *\n",
    "\n",
    "# 设置绘图的参数\n",
    "%matplotlib inline\n",
    "plt.rcParams['figure.figsize'] = (7.0, 4.0)\n",
    "plt.rcParams['image.interpolation'] = 'nearest'\n",
    "plt.rcParams['image.cmap'] = 'gray'\n"
   ]
  },
  {
   "cell_type": "markdown",
   "metadata": {},
   "source": [
    "# Adam: `adaptive moment estimation`\n",
    "\n",
    "Adam 是 RMSprop 和动量梯度下降两种算法的结合。\n",
    "\n",
    "## 主要步骤\n",
    "\n",
    "1. 根据前面的梯度值计算指数加权平均值，存在变量 v 中，对其进行修正，存储在 $v^{corrected}$ 中\n",
    "2. 根据前面的梯度值的平方计算指数加权平均值，存在变量 s 中，对其进行修正，存储在 $s^{corrected}$ 中\n",
    "3. 根据 $v^{corrected}$ 和 $s^{corrected}$ 来更新参数\n",
    "\n",
    "## 涉及公式如下\n",
    "\n",
    "$$\\begin{cases}\n",
    "v_{dW^{[l]}} = \\beta_1 v_{dW^{[l]}} + (1 - \\beta_1) \\frac{\\partial \\mathcal{J} }{ \\partial W^{[l]} } \\\\\n",
    "v^{corrected}_{dW^{[l]}} = \\frac{v_{dW^{[l]}}}{1 - (\\beta_1)^t} \\\\\n",
    "s_{dW^{[l]}} = \\beta_2 s_{dW^{[l]}} + (1 - \\beta_2) (\\frac{\\partial \\mathcal{J} }{\\partial W^{[l]} })^2 \\\\\n",
    "s^{corrected}_{dW^{[l]}} = \\frac{s_{dW^{[l]}}}{1 - (\\beta_1)^t} \\\\\n",
    "W^{[l]} = W^{[l]} - \\alpha \\frac{v^{corrected}_{dW^{[l]}}}{\\sqrt{s^{corrected}_{dW^{[l]}}} + \\varepsilon}\n",
    "\\end{cases}$$\n",
    "\n",
    "## 变量解释\n",
    "\n",
    "1. t 表示梯度下降的次数 \n",
    "2. L 表示神经网络的层数\n",
    "3. $\\beta_1$ 和 $\\beta_2$ 是控制指数加权平均值的超参数\n",
    "4. $\\alpha$ 是学习率\n",
    "5. $\\varepsilon$ 用来防止除 0"
   ]
  },
  {
   "cell_type": "code",
   "execution_count": 4,
   "metadata": {},
   "outputs": [],
   "source": [
    "# 初始化指数加权平均值\n",
    "\n",
    "def initialize_adam(parameters):\n",
    "    L = len(parameters)//2\n",
    "    v = {}\n",
    "    s = {}\n",
    "\n",
    "    for l in range(L):\n",
    "        v['dW' + str(l + 1)] = np.zeros_like(parameters['W' + str(l + 1)])\n",
    "        v['db' + str(l + 1)] = np.zeros_like(parameters['b' + str(l + 1)])\n",
    "\n",
    "        s['dW' + str(l + 1)] = np.zeros_like(parameters['W' + str(l + 1)])\n",
    "        s['db' + str(l + 1)] = np.zeros_like(parameters['b' + str(l + 1)])\n",
    "    \n",
    "    return v, s"
   ]
  },
  {
   "cell_type": "code",
   "execution_count": 6,
   "metadata": {},
   "outputs": [],
   "source": [
    "# 使用 adam 更新参数\n",
    "\n",
    "def update_parameters_with_adam(parameters, grads, v, s, t, learning_rate=0.01, beta1=0.9,beta2=0.999, \n",
    "                                epsilon=1e-8):\n",
    "    L = len(parameters)//2\n",
    "    v_corrected = {}\n",
    "    s_corrected = {}\n",
    "\n",
    "    for l in range(L):\n",
    "        # 计算 v 值\n",
    "        v['dW' + str(l + 1)] = beta1 * v['dW' + str(l + 1)] + (1 - beta1) * grads['dW' + str(l + 1)]\n",
    "        v['db' + str(l + 1)] = beta1 * v['db' + str(l + 1)] + (1 - beta1) * grads['db' + str(l + 1)]\n",
    "\n",
    "        # 对 v 值进行修正\n",
    "        v_corrected['dW' + str(l + 1)] = v[\"dW\" + str(l + 1)] / (1 - np.power(beta1, t))\n",
    "        v_corrected['db' + str(l + 1)] = v['db' + str(l + 1)] / (1 - np.power(beta1, t))\n",
    "\n",
    "        # 计算 s 值\n",
    "        s[\"dW\" + str(l + 1)] = beta2 * s[\"dW\" + str(l + 1)] + (1 - beta2) * np.power(grads['dW' + str(l + 1)], 2)\n",
    "        s[\"db\" + str(l + 1)] = beta2 * s[\"db\" + str(l + 1)] + (1 - beta2) * np.power(grads['db' + str(l + 1)], 2)\n",
    "    \n",
    "\n",
    "        # 对 s 值进行修正\n",
    "        s_corrected[\"dW\" + str(l + 1)] = s[\"dW\" + str(l + 1)] / (1 - np.power(beta2, t))\n",
    "        s_corrected[\"db\" + str(l + 1)] = s[\"db\" + str(l + 1)] / (1 - np.power(beta2, t))\n",
    "\n",
    "        # 更新参数\n",
    "        parameters['W' + str(l + 1)] = parameters['W' + str(l + 1)] - learning_rate * v_corrected['dW' + str(l + 1)] /np.sqrt(s_corrected[\"dW\" + str(l + 1)] + epsilon)\n",
    "        parameters['b' + str(l + 1)] = parameters['b' + str(l + 1)] - learning_rate * v_corrected['db' + str(l + 1)] /np.sqrt(s_corrected[\"db\" + str(l + 1)] + epsilon)\n",
    "\n",
    "    return parameters, v, s\n"
   ]
  }
 ],
 "metadata": {
  "interpreter": {
   "hash": "133e0a373141b86a74d8ce31a3386c60afe8de1148488403c9ad7c02ff4c740c"
  },
  "kernelspec": {
   "display_name": "Python 3.7.13 ('directml': conda)",
   "language": "python",
   "name": "python3"
  },
  "language_info": {
   "codemirror_mode": {
    "name": "ipython",
    "version": 3
   },
   "file_extension": ".py",
   "mimetype": "text/x-python",
   "name": "python",
   "nbconvert_exporter": "python",
   "pygments_lexer": "ipython3",
   "version": "3.7.13"
  },
  "orig_nbformat": 4
 },
 "nbformat": 4,
 "nbformat_minor": 2
}
