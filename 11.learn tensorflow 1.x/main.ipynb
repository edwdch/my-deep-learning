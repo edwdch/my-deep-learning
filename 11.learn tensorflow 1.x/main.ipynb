{
 "cells": [
  {
   "cell_type": "code",
   "execution_count": 1,
   "metadata": {},
   "outputs": [],
   "source": [
    "# 导入必需的库\n",
    "import math\n",
    "import numpy as np\n",
    "import h5py\n",
    "import matplotlib.pyplot as plt\n",
    "\n",
    "# 由于我们安装的是 tensorflow 2.X，要使用 1.X 的代码，需要使用下列语句导入\n",
    "import tensorflow.compat.v1 as tf\n",
    "tf.compat.v1.disable_eager_execution()\n",
    "\n",
    "# 如果安装的是 1.X，则使用下列语句导入\n",
    "# import tensorflow as tf\n",
    "\n",
    "from tensorflow.python.framework import ops\n",
    "from tf_utils import load_dataset, random_mini_batches, convert_to_one_hot, predict\n",
    "\n",
    "%matplotlib inline\n",
    "np.random.seed(1)\n"
   ]
  },
  {
   "cell_type": "markdown",
   "metadata": {},
   "source": [
    "使用 tensorflow 定义下面的函数。\n",
    "\n",
    "$$loss = \\mathcal{L}(\\hat{y}, y) = (\\hat y^{(i)} - y^{(i)})^2 \\tag{1}$$"
   ]
  },
  {
   "cell_type": "code",
   "execution_count": 4,
   "metadata": {},
   "outputs": [
    {
     "name": "stdout",
     "output_type": "stream",
     "text": [
      "9\n"
     ]
    }
   ],
   "source": [
    "y_hat = tf.constant(36, name='y_hat')   # 定义一个 tf 常量 y_hat，值为 36\n",
    "y = tf.constant(39, name='y')\n",
    "\n",
    "loss = tf.Variable((y - y_hat)**2, name='loss') # 定义一个 tf 变量，表示上面的 loss 函数\n",
    "\n",
    "init = tf.global_variables_initializer()        # tf 的固定写法，后面会使用 init 来初始化 loss 变量\n",
    "with tf.Session() as session:                   # 创建一个 tf 的 session\n",
    "    session.run(init)                           # 使用这个 session 执行 init 操作\n",
    "    print(session.run(loss))                    # 使用这个 session 执行 loss 操作，将 loss 值打印"
   ]
  },
  {
   "cell_type": "markdown",
   "metadata": {},
   "source": [
    "编写 tensorflow 程序的一般步骤：\n",
    "\n",
    "1. 创建变量，在 tensorflow 中有张量 (tensor) 一词\n",
    "2. 用这些张量来构建每一个操作，如上面的 $(\\hat y^{(i)} - y^{(i)})^2$\n",
    "3. 初始化那些张量。在 tensorflow 中，创建张量时，并没有进行初始化。后面用特殊的语句来初始化这些张量。\n",
    "4. 创建一个 Session，并且在 Session 中执行操作。\n",
    "5. 用 Session 来执行前面定义的操作。"
   ]
  },
  {
   "cell_type": "code",
   "execution_count": 5,
   "metadata": {},
   "outputs": [
    {
     "name": "stdout",
     "output_type": "stream",
     "text": [
      "Tensor(\"Mul:0\", shape=(), dtype=int32)\n"
     ]
    }
   ],
   "source": [
    "# 举例说明 tensorflow 的设计/动工\"的特色\n",
    "\n",
    "a = tf.constant(2)\n",
    "b = tf.constant(10)\n",
    "c = tf.multiply(a, b)\n",
    "print(c)"
   ]
  },
  {
   "cell_type": "markdown",
   "metadata": {},
   "source": [
    "上述代码执行完时，并没有计算出 c 的值，而是打印出了张量 c 的一些信息。这是因为这些代码只是设计了张量 c，还没有去执行它，所以打印出来的只是一些信息。\n",
    "\n",
    "为了执行上述的设计，我们需要使用 Session 的 run 方法执行上面的设计，再次打印出张量 c 的值，就得到了我们想要的结果。\n",
    "\n",
    "我们需要适应 tensorflow 的这种用法：先创建变量和操作，再初始化变量，再创建 Session，再执行操作。"
   ]
  },
  {
   "cell_type": "code",
   "execution_count": 6,
   "metadata": {},
   "outputs": [
    {
     "name": "stdout",
     "output_type": "stream",
     "text": [
      "20\n"
     ]
    }
   ],
   "source": [
    "with tf.Session() as session:\n",
    "    print(session.run(c))"
   ]
  },
  {
   "cell_type": "markdown",
   "metadata": {},
   "source": [
    "### tensorflow 特性：placeholder 占位符\n",
    "\n",
    "    在 tensorflow 中，我们可以使用占位符来代替一些张量，这些张量在执行操作时，会被替换为真实的值。\n",
    "\n",
    "    占位符的作用是，在执行操作时，先不管它的值，而是等到真实的值来时，再给它赋值。"
   ]
  },
  {
   "cell_type": "code",
   "execution_count": 10,
   "metadata": {},
   "outputs": [
    {
     "name": "stdout",
     "output_type": "stream",
     "text": [
      "6\n"
     ]
    }
   ],
   "source": [
    "# tensorflow placeholrder：占位符\n",
    "\n",
    "x = tf.placeholder(tf.int64, name='x')              # 创建一个名为 x 的占位符\n",
    "with tf.Session() as session:\n",
    "    print(session.run(2 * x, feed_dict={x: 3}))     # 执行时，通过 feed_dict 填充 x 的值，因此执行结果为 6\n"
   ]
  },
  {
   "cell_type": "markdown",
   "metadata": {},
   "source": [
    "### tensorflow 重要概念：计算图\n",
    "\n",
    "    当我们创建变量和操作时，仅仅是在 tensorflow 中构建了一个计算图，计算图中可以有占位符。\n",
    "\n",
    "    这些都只是设计，并没有实际的数据执行。\n",
    "\n",
    "    知道创建了 session 后，就可以用 session.run 来执行前面设计好的计算图，在执行计算图时，可以往计算图的占位符里填充内容。\n",
    "\n",
    "    同一个计算图，每次 run 时，都可以往占位符中填充不同的值。"
   ]
  },
  {
   "cell_type": "code",
   "execution_count": 11,
   "metadata": {},
   "outputs": [],
   "source": [
    "# 使用 tensorflow 实现 Y=WX+b 的线性函数\n",
    "# 在本例中，我们设 W 的维度是 (4, 3)，X 的维度是 (3, 1)，以及 b 是 (4, 1)\n",
    "\n",
    "def linear_function():\n",
    "    np.random.seed(1)\n",
    "\n",
    "    X = tf.constant(np.random.randn(3, 1), name='X')    # 定义一个维度是 (3, 1) 的常量\n",
    "    W = tf.constant(np.random.randn(4, 3), name='W')\n",
    "    b = tf.constant(np.random.randn(4, 1), name='b')\n",
    "    Y = tf.add(tf.matmul(W, X), b)                      # tf.matmul 会执行矩阵乘法\n",
    "\n",
    "    # 创建 session\n",
    "    with tf.Session() as sess:\n",
    "        result = sess.run(Y)\n",
    "    \n",
    "    return result"
   ]
  },
  {
   "cell_type": "code",
   "execution_count": 12,
   "metadata": {},
   "outputs": [
    {
     "name": "stdout",
     "output_type": "stream",
     "text": [
      "result = [[-2.15657382]\n",
      " [ 2.95891446]\n",
      " [-1.08926781]\n",
      " [-0.84538042]]\n"
     ]
    }
   ],
   "source": [
    "# 测试\n",
    "\n",
    "print(\"result = \" + str(linear_function()))"
   ]
  },
  {
   "cell_type": "code",
   "execution_count": 13,
   "metadata": {},
   "outputs": [],
   "source": [
    "# 使用 tensorflow 实现 sigmoid 函数\n",
    "\n",
    "def sigmoid(z):\n",
    "    x = tf.placeholder(tf.float32, name='x')    # 定义一个类型为 float32 的占位符\n",
    "\n",
    "    sigmoid = tf.sigmoid(x)                     # 调用 tensorflow 的 sigmoid 函数，传入 x\n",
    "\n",
    "    with tf.Session() as sess:\n",
    "        result = sess.run(sigmoid, feed_dict={x: z})\n",
    "    \n",
    "    return result"
   ]
  },
  {
   "cell_type": "code",
   "execution_count": 14,
   "metadata": {},
   "outputs": [
    {
     "name": "stdout",
     "output_type": "stream",
     "text": [
      "sigmoid(0) = 0.5\n",
      "sigmoid(12) = 0.9999939\n"
     ]
    }
   ],
   "source": [
    "# 测试\n",
    "\n",
    "print(\"sigmoid(0) = \" + str(sigmoid(0)))\n",
    "print(\"sigmoid(12) = \" + str(sigmoid(12)))\n"
   ]
  },
  {
   "cell_type": "markdown",
   "metadata": {},
   "source": [
    "### Cost 函数\n",
    "\n",
    "$$ J = - \\frac{1}{m}  \\sum_{i = 1}^m  \\large ( \\small y^{(i)} \\log a^{ [2] (i)} + (1-y^{(i)})\\log (1-a^{ [2] (i)} )\\large )\\small\\tag{2}$$\n",
    "\n",
    "    tensorflow 函数一次性帮我们实现了 sigmoid 和 cost 函数，即如下代码。\n",
    "\n",
    "```python\n",
    "tf.nn.sigmoid_cross_entropy_with_logits(logits = ...,  labels = ...)\n",
    "```\n",
    "\n",
    "    logits 即最后一层神经元输出的 z，label 即我们的真实标签 y。\n",
    "\n",
    "    等于一次性实现了下面的函数。\n",
    "\n",
    "$$- \\frac{1}{m}  \\sum_{i = 1}^m  \\large ( \\small y^{(i)} \\log \\sigma(z^{[2](i)}) + (1-y^{(i)})\\log (1-\\sigma(z^{[2](i)})\\large )\\small\\tag{2}$$\n",
    "\n"
   ]
  },
  {
   "cell_type": "code",
   "execution_count": 17,
   "metadata": {},
   "outputs": [],
   "source": [
    "# tensorflow cost + sigmoid 函数\n",
    "\n",
    "def cost(z_in, y_in):\n",
    "    z = tf.placeholder(tf.float32, name='z')\n",
    "    y = tf.placeholder(tf.float32, name='y')\n",
    "\n",
    "    # 使用 sigmoid_cross_entropy_with_logits 来构建 cost 操作\n",
    "    cost = tf.nn.sigmoid_cross_entropy_with_logits(logits=z, labels=y)\n",
    "\n",
    "    with tf.Session() as session:\n",
    "        cost = session.run(cost, feed_dict={z: z_in, y: y_in})\n",
    "    \n",
    "    return cost"
   ]
  },
  {
   "cell_type": "code",
   "execution_count": 18,
   "metadata": {},
   "outputs": [
    {
     "name": "stdout",
     "output_type": "stream",
     "text": [
      "cost = [0.79813886 0.91301525 0.40318602 0.34115386]\n"
     ]
    }
   ],
   "source": [
    "# test\n",
    "\n",
    "logits = np.array([0.2, 0.4, 0.7, 0.9])\n",
    "print('cost = ' + str(cost(logits, np.array([0, 0, 1, 1]))))\n"
   ]
  },
  {
   "cell_type": "markdown",
   "metadata": {},
   "source": [
    "### One Hot 编码\n",
    "\n",
    "    在人工智能的编程中，我们经常会遇到多分类问题，softmax就是解决多分类问题的。\n",
    "\n",
    "    在多分类问题中，我们的 y 向量包含了 0 到 C-1 的数字，里面的 C 表示类别的数目。\n",
    "\n",
    "    假设 C 是 4，我们有如下的转换：\n",
    "\n",
    "![](./images/onehot.png)\n",
    "\n",
    "    右边的向量就是 One Hot 向量，它的每一个元素都是 0，只有一个 1，其他的都是 0。\n",
    "\n",
    "    如最后一个元素是 1，那么它表示的是第 3 类。倒数第二个元素是 1，那么它表示的是第 2 类。\n",
    "    \n",
    "    使用 tensorflow 框架，我们可以使用\n",
    "\n",
    "```python\n",
    "tf.one_hot(indices, depth, axis)\n",
    "```"
   ]
  },
  {
   "cell_type": "code",
   "execution_count": 19,
   "metadata": {},
   "outputs": [],
   "source": [
    "# tensorflow one_hot\n",
    "\n",
    "def one_hot_matrix(labels, C_in):\n",
    "    \"\"\"\n",
    "    labels 就是真实标签 y 向量\n",
    "    C_in 就是类别的数量\n",
    "    \"\"\"\n",
    "\n",
    "    C = tf.constant(C_in, name='C')\n",
    "\n",
    "    one_hot_matrix = tf.one_hot(indices=labels, depth=C, axis=0)\n",
    "\n",
    "    with tf.Session() as session:\n",
    "        one_hot = session.run(one_hot_matrix)\n",
    "    \n",
    "    return one_hot"
   ]
  },
  {
   "cell_type": "code",
   "execution_count": 20,
   "metadata": {},
   "outputs": [
    {
     "name": "stdout",
     "output_type": "stream",
     "text": [
      "one_hot = [[0. 0. 0. 1. 0. 0.]\n",
      " [1. 0. 0. 0. 0. 1.]\n",
      " [0. 1. 0. 0. 1. 0.]\n",
      " [0. 0. 1. 0. 0. 0.]]\n"
     ]
    }
   ],
   "source": [
    "labels = np.array([1, 2, 3, 0, 2, 1])\n",
    "one_hot = one_hot_matrix(labels, C_in=4)\n",
    "print(\"one_hot = \" + str(one_hot))\n"
   ]
  },
  {
   "cell_type": "markdown",
   "metadata": {},
   "source": [
    "### tensorflow 初始化 0 和 1\n",
    "\n",
    " - tf.ones()\n",
    " - tf.zeros()"
   ]
  },
  {
   "cell_type": "code",
   "execution_count": 21,
   "metadata": {},
   "outputs": [],
   "source": [
    "# tensorflow 初始化 1\n",
    "\n",
    "def ones(shape):\n",
    "    ones = tf.ones(shape)   # 传入维度\n",
    "\n",
    "    with tf.Session() as session:\n",
    "        ones = session.run(ones)\n",
    "    \n",
    "    return ones"
   ]
  },
  {
   "cell_type": "code",
   "execution_count": 22,
   "metadata": {},
   "outputs": [
    {
     "name": "stdout",
     "output_type": "stream",
     "text": [
      "ones = [1. 1. 1.]\n"
     ]
    }
   ],
   "source": [
    "# test \n",
    "print('ones = ' + str(ones([3])))"
   ]
  }
 ],
 "metadata": {
  "interpreter": {
   "hash": "94ab98b4b931eea8da1b5885e6fe9f1cfe685315bc68825de5fd10f928659d37"
  },
  "kernelspec": {
   "display_name": "Python 3.7.12 ('deep-learning': conda)",
   "language": "python",
   "name": "python3"
  },
  "language_info": {
   "codemirror_mode": {
    "name": "ipython",
    "version": 3
   },
   "file_extension": ".py",
   "mimetype": "text/x-python",
   "name": "python",
   "nbconvert_exporter": "python",
   "pygments_lexer": "ipython3",
   "version": "3.7.12"
  },
  "orig_nbformat": 4
 },
 "nbformat": 4,
 "nbformat_minor": 2
}
