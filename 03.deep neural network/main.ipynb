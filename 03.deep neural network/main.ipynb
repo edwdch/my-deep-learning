{
 "cells": [
  {
   "cell_type": "code",
   "execution_count": 5,
   "metadata": {},
   "outputs": [],
   "source": [
    "# 导入必需的库\n",
    "\n",
    "import numpy as np\n",
    "import h5py\n",
    "import matplotlib.pyplot as plt\n",
    "\n",
    "# 加载自定义的工具类函数\n",
    "from testCases import *\n",
    "from dnn_utils import *\n",
    "\n",
    "# 设置一些绘图相关的参数\n",
    "%matplotlib inline\n",
    "plt.rcParams['figure.figsize'] = (5.0, 4.0) \n",
    "plt.rcParams['image.interpolation'] = 'nearest'\n",
    "plt.rcParams['image.cmap'] = 'gray'\n",
    "\n",
    "# 固定随机数种子\n",
    "np.random.seed(1)"
   ]
  },
  {
   "cell_type": "markdown",
   "metadata": {},
   "source": [
    "![](./images/dims1.png)"
   ]
  },
  {
   "cell_type": "code",
   "execution_count": 1,
   "metadata": {},
   "outputs": [],
   "source": [
    "# 初始化参数函数\n",
    "# layer_dims 包含每一层的神经元个数 (输入层、第一层、第二层... 输出层)\n",
    "# 如 [5, 4, 3] 表示输入层有 5 个神经元，第一层有 4 个神经元，最后一层有 3 个神经元\n",
    "\n",
    "def initialize_parameters_deep(layer_dims):\n",
    "    # 固定随机数种子\n",
    "    np.random.seed(1)\n",
    "\n",
    "    # 初始化好的参数\n",
    "    parameters = {}\n",
    "\n",
    "    # 获取神经网络层数 (包含了输入层)\n",
    "    L = len(layer_dims)\n",
    "\n",
    "    # 跳过了输入层\n",
    "    for l in range(1, L):\n",
    "        # Wl 的维度是 (n[l], n[l-1])\n",
    "        # np.sqrt(layer_dims[l-1])  为了延缓梯度消失和爆炸，我们需要将权重初始化为更靠近0的数\n",
    "        parameters['W' + str(l)] = np.random.randn(layer_dims[l], layer_dims[l-1]) / np.sqrt(layer_dims[l-1])\n",
    "\n",
    "        # 构建并初始化 b\n",
    "        # bl 的维度 (n[l], 1)\n",
    "        parameters['b' + str(l)] = np.zeros((layer_dims[l], 1))\n",
    "\n",
    "        # 核对 w, b 的维度\n",
    "        assert(parameters['W' + str(l)].shape == (layer_dims[l], layer_dims[l-1]))\n",
    "        assert(parameters['b' + str(l)].shape == (layer_dims[l], 1))\n",
    "\n",
    "    return parameters\n"
   ]
  },
  {
   "cell_type": "markdown",
   "metadata": {},
   "source": [
    "`linear_forward` 用于实现公式 $Z^{[l]} = W^{[l]}A^{[l-1]} +b^{[l]}$， 称之为线性前向传播"
   ]
  },
  {
   "cell_type": "code",
   "execution_count": 3,
   "metadata": {},
   "outputs": [],
   "source": [
    "# 线性前向传播\n",
    "def linear_forward(A, W, b):\n",
    "    Z = np.dot(W, A) + b\n",
    "\n",
    "    # 核对 Z 的维度\n",
    "    assert(Z.shape == (W.shape[0], A.shape[1]))\n",
    "\n",
    "    # 保存 A, W, b\n",
    "    cache = (A, W, b)\n",
    "\n",
    "    return Z, cache"
   ]
  },
  {
   "cell_type": "markdown",
   "metadata": {},
   "source": [
    "`linear_activation_forward` 用于实现公式 $A^{[l]} = g(Z^{[l]})$，g代表激活函数"
   ]
  },
  {
   "cell_type": "code",
   "execution_count": 7,
   "metadata": {},
   "outputs": [],
   "source": [
    "# 非线性前向传播\n",
    "# A_prev 上一层的 A\n",
    "# W 本层的 w\n",
    "# b 本层的 b\n",
    "# activation 激活函数, 'sigmoid'/'relu'\n",
    "\n",
    "def linear_activation_forward(A_prev, W, b, activation):\n",
    "    # 计算本层的 Z\n",
    "    Z, linear_cache = linear_forward(A_prev, W, b)\n",
    "\n",
    "    # 使用激活函数\n",
    "    if activation == 'sigmoid':\n",
    "        A = sigmoid(Z)\n",
    "    elif activation == 'relu':\n",
    "        A = relu(Z)\n",
    "\n",
    "    # 核对 A 的维度\n",
    "    assert (A.shape == (W.shape[0], A_prev.shape[1]))\n",
    "\n",
    "    # 缓存 Z, linear_cache\n",
    "    cache = (linear_cache, Z)\n",
    "\n",
    "    return A, cache"
   ]
  },
  {
   "cell_type": "markdown",
   "metadata": {},
   "source": [
    "![](./images/forward_propagation.png)"
   ]
  },
  {
   "cell_type": "code",
   "execution_count": 11,
   "metadata": {},
   "outputs": [],
   "source": [
    "# 前向传播\n",
    "# 前 L-1 层使用 relu 激活函数，最后一层使用 sigmoid 激活函数\n",
    "# 输入特征数据 X，每一层的 w, b (parameters)\n",
    "\n",
    "def L_model_forward(X, parameters):\n",
    "    caches = []\n",
    "\n",
    "    # 第一层的 A 实际就是输入的特征 X\n",
    "    A = X\n",
    "\n",
    "    # 获取神经网络层数\n",
    "    # 注意：此处的层数不包括输入层\n",
    "    # 参数列表数据为 [W1, b1, W2, b2, ...]，一对 (W1, b1) 即为一层\n",
    "    # 因此除以 2 可以得到神经网络的层数\n",
    "    L = len(parameters)//2\n",
    "\n",
    "    # 先进行前 L-1 层的前向传播\n",
    "    # 使用 relu 激活函数\n",
    "    for l in range(1, L):\n",
    "        A_prev = A\n",
    "        A, cache = linear_activation_forward(A_prev, parameters['W' + str(l)], \n",
    "                                            parameters['b' + str(l)], 'relu')\n",
    "        caches.append(cache)\n",
    "    \n",
    "    # 进行最后移一层的前向传播\n",
    "    # 使用 sigmoid 激活函数\n",
    "    AL, cache = linear_activation_forward(A, parameters['W' + str(L)],\n",
    "                                            parameters['b' + str(L)], 'sigmoid')\n",
    "    caches.append(cache)\n",
    "\n",
    "    # 核算 AL 的维度\n",
    "    assert(AL.shape == (1, X.shape[1]))\n",
    "\n",
    "    return AL, caches"
   ]
  },
  {
   "cell_type": "code",
   "execution_count": 34,
   "metadata": {},
   "outputs": [],
   "source": [
    "# 成本计算\n",
    "\n",
    "def compute_cost(AL, Y):\n",
    "    m = Y.shape[1]\n",
    "    cost = (-1 / m) * np.sum(np.multiply(Y, np.log(AL)) + np.multiply(1 - Y, np.log(1 - AL)))\n",
    "\n",
    "    # 确保 cost 是数值形式不是数组形式\n",
    "    cost = np.squeeze(cost)\n",
    "\n",
    "    assert(cost.shape == ())\n",
    "\n",
    "    return cost"
   ]
  },
  {
   "cell_type": "markdown",
   "metadata": {},
   "source": [
    "`linear_backward` 函数用于根据后一层的 dZ 来计算前面一层的 dW，db 和 dA。也就是实现了下面3个公式\n",
    "$$ dW^{[l]}  = \\frac{1}{m} dZ^{[l]} A^{[l-1] T}$$\n",
    "$$ db^{[l]}  = \\frac{1}{m} \\sum_{i = 1}^{m} dZ^{[l](i)}$$\n",
    "$$ dA^{[l-1]} = W^{[l] T} dZ^{[l]}$$"
   ]
  },
  {
   "cell_type": "code",
   "execution_count": 13,
   "metadata": {},
   "outputs": [],
   "source": [
    "# 反向传播\n",
    "# dZ 后一层的dZ\n",
    "# cache 本层前向传播时的缓存变量\n",
    "\n",
    "def linear_backward(dZ, cache):\n",
    "    # 取出本层前向传播时的 A_prev, W, b\n",
    "    A_prev, W, b = cache\n",
    "\n",
    "    # 样本数\n",
    "    m = A_prev.shape[1]\n",
    "\n",
    "    # 按上述公式计算 dW, db, dA_prev\n",
    "    dW = np.dot(dZ, A_prev.T) / m\n",
    "    db = np.sum(dZ, axis=1, keepdims=True) / m\n",
    "    dA_prev = np.dot(W.T, dZ)\n",
    "\n",
    "    # 核算维度\n",
    "    assert(dA_prev.shape == A_prev.shape)\n",
    "    assert(dW.shape == W.shape)\n",
    "    assert(db.shape == b.shape)\n",
    "\n",
    "    return dA_prev, dW, db\n"
   ]
  },
  {
   "cell_type": "markdown",
   "metadata": {},
   "source": [
    "`linear_activation_backward` 用于根据本层的 dA 计算出本层的 dZ。就是实现了下面的公式\n",
    "$$dZ^{[l]} = dA^{[l]} * g'(Z^{[l]})$$"
   ]
  },
  {
   "cell_type": "code",
   "execution_count": 15,
   "metadata": {},
   "outputs": [],
   "source": [
    "# 非线性反向传播\n",
    "# dA 本层的 dA\n",
    "# cache 本层在前向传播时保存的变量\n",
    "# activation 激活函数，'sigmoid'/'relu\n",
    "\n",
    "def linear_activation_backward(dA, cache, activation):\n",
    "    # 取出变量\n",
    "    linear_cache, activation_cache = cache\n",
    "\n",
    "    if activation == 'relu':\n",
    "        dZ = relu_backward(dA, activation_cache)\n",
    "    elif activation == 'sigmoid':\n",
    "        dZ = sigmoid_backward(dA, activation_cache)\n",
    "    \n",
    "    # 根据本层的 dZ 计算本层的 dW, db, 以及前一层的 dA\n",
    "    dA_prev, dW, db = linear_backward(dZ, linear_cache)\n",
    "\n",
    "    return dA_prev, dW, db\n"
   ]
  },
  {
   "cell_type": "markdown",
   "metadata": {},
   "source": [
    "![](./images/backward_propagation.png)"
   ]
  },
  {
   "cell_type": "code",
   "execution_count": 27,
   "metadata": {},
   "outputs": [],
   "source": [
    "# 完整的反向传播\n",
    "# AL 最后一层的 A，即 y'，预测出的标签\n",
    "# Y 真实标签\n",
    "# caches 每层的缓存\n",
    "\n",
    "def L_model_backward(AL, Y, caches):\n",
    "    grads = {}\n",
    "\n",
    "    # 神经网络层数\n",
    "    L = len(caches)\n",
    "\n",
    "    # 让真实标签和预测标签的维度一致\n",
    "    Y = Y.reshape(AL.shape)\n",
    "\n",
    "    # 根据成本函数直接求 dA\n",
    "    # 最后一层的 dA 与前面各层的 dA 计算方式不同\n",
    "    dAL =  -(np.divide(Y, AL) - np.divide(1-Y, 1-AL))\n",
    "\n",
    "    # 单独计算最后一层的 dW 和 db，使用了 sigmoid 函数\n",
    "    current_cache = caches[-1]\n",
    "    grads['dA' + str(L-1)], \\\n",
    "        grads['dW' + str(L)], \\\n",
    "            grads['db' + str(L)] = linear_activation_backward(dAL, current_cache, activation='sigmoid')\n",
    "\n",
    "    # 计算 L-1 层到第一层的梯度，使用 relu 函数\n",
    "    # reversed: L-1, L-2, L-3 ... 1\n",
    "    for c in reversed(range(1, L)):\n",
    "        grads['dA' + str(c-1)], \\\n",
    "            grads['dW' + str(c)], \\\n",
    "                grads['db' + str(c)] = linear_activation_backward(grads['dA' + str(c)], caches[c-1], 'relu')\n",
    "    \n",
    "    return grads\n"
   ]
  },
  {
   "cell_type": "markdown",
   "metadata": {},
   "source": [
    "`update_parameters` 函数将利用这些梯度来更新/优化每一层的w和b，也就是进行梯度下降。\n",
    "$$ W^{[l]} = W^{[l]} - \\alpha \\text{ } dW^{[l]}$$\n",
    "$$ b^{[l]} = b^{[l]} - \\alpha \\text{ } db^{[l]}$$"
   ]
  },
  {
   "cell_type": "code",
   "execution_count": 30,
   "metadata": {},
   "outputs": [],
   "source": [
    "# 梯度下降\n",
    "# parameters: 每层的 w, b\n",
    "# grads: 每层的梯度即dW, db\n",
    "# learning_rate: 学习率\n",
    "\n",
    "def update_parameters(parameters, grads, learning_rate):\n",
    "    # 获取层数\n",
    "    L = len(parameters)//2\n",
    "\n",
    "    for l in range(1, L+1):\n",
    "        parameters['W' + str(l)] = parameters['W' + str(l)] - learning_rate * grads['dW' + str(l)]\n",
    "        parameters['b' + str(l)] = parameters['b' + str(l)] - learning_rate * grads['db' + str(l)]\n",
    "\n",
    "    return parameters\n"
   ]
  },
  {
   "cell_type": "code",
   "execution_count": 33,
   "metadata": {},
   "outputs": [],
   "source": [
    "# 工具函数编写完成\n",
    "# 接下来加载数据\n",
    "\n",
    "train_x_orig, train_y, test_x_orig, test_y, classes = load_data()\n",
    "\n",
    "m_train = train_x_orig.shape[0]  # 训练样本的数量\n",
    "m_test = test_x_orig.shape[0]  # 测试样本的数量\n",
    "num_px = test_x_orig.shape[1]  # 每张图片的宽/高\n",
    "\n",
    "# 为了方便后面进行矩阵运算，我们需要将样本数据进行扁平化和转置\n",
    "# 处理后的数组各维度的含义是（图片数据，样本数）\n",
    "train_x_flatten = train_x_orig.reshape(train_x_orig.shape[0], -1).T\n",
    "test_x_flatten = test_x_orig.reshape(test_x_orig.shape[0], -1).T \n",
    "\n",
    "# 下面我们对特征数据进行了简单的标准化处理（除以255，使所有值都在[0，1]范围内）\n",
    "train_x = train_x_flatten/255.\n",
    "test_x = test_x_flatten/255.\n"
   ]
  },
  {
   "cell_type": "code",
   "execution_count": 36,
   "metadata": {},
   "outputs": [],
   "source": [
    "# 深度神经网络训练模型\n",
    "# X 数据特征\n",
    "# Y 数据标签\n",
    "# layers_dims 神经网络每层的数量 (包含输出层)\n",
    "# learning_rate 学习率\n",
    "# num_iterations 训练次数\n",
    "\n",
    "def dnn_model(X, Y, layers_dims, learning_rate=0.0075, num_iterations=3000, print_cost=False):\n",
    "    # 固定随机数种子\n",
    "    np.random.seed(1)\n",
    "\n",
    "    costs = []\n",
    "\n",
    "    # 初始化每层的 w, b\n",
    "    parameters = initialize_parameters_deep(layers_dims)\n",
    "\n",
    "    # 训练指定次数\n",
    "    for i in range(num_iterations):\n",
    "        # 前向传播\n",
    "        AL, caches = L_model_forward(X, parameters)\n",
    "        # 计算成本\n",
    "        cost = compute_cost(AL, Y)\n",
    "        # 反向传播\n",
    "        grads = L_model_backward(AL, Y, caches)\n",
    "        # 更新参数\n",
    "        parameters = update_parameters(parameters, grads, learning_rate)\n",
    "        # 每 100 次打印一次成本\n",
    "        if i % 100 == 0:\n",
    "            if print_cost and i > 0:\n",
    "                print (\"训练%i次后成本是: %f\" % (i, cost))\n",
    "            costs.append(cost)\n",
    "\n",
    "    # 画出成本曲线图\n",
    "    plt.plot(np.squeeze(costs))\n",
    "    plt.ylabel('cost')\n",
    "    plt.xlabel('iterations (per tens)')\n",
    "    plt.title(\"Learning rate =\" + str(learning_rate))\n",
    "    plt.show()\n",
    "\n",
    "    return parameters"
   ]
  },
  {
   "cell_type": "code",
   "execution_count": 37,
   "metadata": {},
   "outputs": [
    {
     "name": "stdout",
     "output_type": "stream",
     "text": [
      "训练100次后成本是: 0.672053\n",
      "训练200次后成本是: 0.648263\n",
      "训练300次后成本是: 0.611507\n",
      "训练400次后成本是: 0.567047\n",
      "训练500次后成本是: 0.540138\n",
      "训练600次后成本是: 0.527930\n",
      "训练700次后成本是: 0.465477\n",
      "训练800次后成本是: 0.369126\n",
      "训练900次后成本是: 0.391747\n",
      "训练1000次后成本是: 0.315187\n",
      "训练1100次后成本是: 0.272700\n",
      "训练1200次后成本是: 0.237419\n",
      "训练1300次后成本是: 0.199601\n",
      "训练1400次后成本是: 0.189263\n",
      "训练1500次后成本是: 0.161189\n",
      "训练1600次后成本是: 0.148214\n",
      "训练1700次后成本是: 0.137775\n",
      "训练1800次后成本是: 0.129740\n",
      "训练1900次后成本是: 0.121225\n"
     ]
    },
    {
     "data": {
      "image/png": "[encoded data removed]",
      "text/plain": [
       "<Figure size 360x288 with 1 Axes>"
      ]
     },
     "metadata": {
      "needs_background": "light"
     },
     "output_type": "display_data"
    }
   ],
   "source": [
    "# 设置好深度神经网络的层次信息——下面代表了一个4层的神经网络（12288是输入层），\n",
    "# 第一层有20个神经元，第二层有7个神经元...\n",
    "layers_dims = [12288, 20, 7, 5, 1]\n",
    "\n",
    "# 根据上面的层次信息来构建一个深度神经网络，并且用之前加载的数据集来训练这个神经网络，得出训练后的参数\n",
    "parameters = dnn_model(train_x, train_y, layers_dims, num_iterations=2000, print_cost=True)"
   ]
  },
  {
   "cell_type": "code",
   "execution_count": 38,
   "metadata": {},
   "outputs": [],
   "source": [
    "# 预测函数\n",
    "\n",
    "def predict(X, parameters):\n",
    "    # 样本数量\n",
    "    m = X.shape[1]\n",
    "\n",
    "    # 神经网络层数 (包括输出层)\n",
    "    n = len(parameters) // 2\n",
    "\n",
    "    # 结果\n",
    "    p = np.zeros((1, m))\n",
    "\n",
    "    # 进行一次前向传播得到预测结果\n",
    "    probas, caches = L_model_forward(X, parameters)\n",
    "\n",
    "    # 将预测结果转换为 0/1\n",
    "    # 大于 0.5 为 1，反之为 0\n",
    "    for i in range(probas.shape[1]):\n",
    "        if (probas[0, i] > 0.5):\n",
    "            p[0, i] = 1\n",
    "        else:\n",
    "            p[0, i] = 0\n",
    "    \n",
    "    return p\n"
   ]
  },
  {
   "cell_type": "code",
   "execution_count": 43,
   "metadata": {},
   "outputs": [
    {
     "name": "stdout",
     "output_type": "stream",
     "text": [
      "预测准确率是: 0.9808612440191385\n"
     ]
    }
   ],
   "source": [
    "# 对训练数据集进行预测\n",
    "pred_train = predict(train_x, parameters)\n",
    "print(\"预测准确率是: \" + str(np.sum((pred_train == train_y) / train_x.shape[1])))\n"
   ]
  },
  {
   "cell_type": "code",
   "execution_count": 44,
   "metadata": {},
   "outputs": [
    {
     "name": "stdout",
     "output_type": "stream",
     "text": [
      "预测准确率是: 0.8\n"
     ]
    }
   ],
   "source": [
    "# 对测试数据集进行预测\n",
    "pred_test = predict(test_x, parameters)\n",
    "print(\"预测准确率是: \" + str(np.sum((pred_test == test_y) / test_x.shape[1])))\n"
   ]
  }
 ],
 "metadata": {
  "interpreter": {
   "hash": "133e0a373141b86a74d8ce31a3386c60afe8de1148488403c9ad7c02ff4c740c"
  },
  "kernelspec": {
   "display_name": "Python 3.7.13 ('directml': conda)",
   "language": "python",
   "name": "python3"
  },
  "language_info": {
   "codemirror_mode": {
    "name": "ipython",
    "version": 3
   },
   "file_extension": ".py",
   "mimetype": "text/x-python",
   "name": "python",
   "nbconvert_exporter": "python",
   "pygments_lexer": "ipython3",
   "version": "3.7.13"
  },
  "orig_nbformat": 4
 },
 "nbformat": 4,
 "nbformat_minor": 2
}
