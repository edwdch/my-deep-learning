{
 "cells": [
  {
   "cell_type": "markdown",
   "metadata": {},
   "source": [
    "本节任务：构建一个可以识别简单手语的人工智能程序"
   ]
  },
  {
   "cell_type": "code",
   "execution_count": 1,
   "metadata": {},
   "outputs": [],
   "source": [
    "# 导入必须的库\n",
    "import math\n",
    "import numpy as np\n",
    "import h5py\n",
    "import matplotlib.pyplot as plt\n",
    "\n",
    "import tensorflow.compat.v1 as tf\n",
    "tf.compat.v1.disable_eager_execution()\n",
    "\n",
    "\n",
    "from tensorflow.python.framework import ops\n",
    "from tf_utils import load_dataset, random_mini_batches, convert_to_one_hot, predict\n",
    "\n",
    "%matplotlib inline\n",
    "np.random.seed(1)\n"
   ]
  },
  {
   "cell_type": "markdown",
   "metadata": {},
   "source": [
    "## 手语数据库\n",
    "\n",
    " - 训练数据集：1080张图（64 * 64 像素），表示 0-5 的数字，每个数字有 180 张不同的图像，这些图像稍微有些不同\n",
    " - 测试数据集：120张图 （64 * 64 像素），表示 0-5 的数字，每个数字有 20 张不同的图像\n",
    "\n",
    "![](./images/hands.png)"
   ]
  },
  {
   "cell_type": "code",
   "execution_count": 6,
   "metadata": {},
   "outputs": [
    {
     "name": "stdout",
     "output_type": "stream",
     "text": [
      "X_train_orig.shape = (1080, 64, 64, 3)\n"
     ]
    }
   ],
   "source": [
    "# 加载数据集\n",
    "\n",
    "X_train_orig, Y_train_orig, X_test_orig, Y_test_orig, classes = load_dataset()\n",
    "\n",
    "print('X_train_orig.shape = ' + str(X_train_orig.shape))\n"
   ]
  },
  {
   "cell_type": "code",
   "execution_count": 4,
   "metadata": {},
   "outputs": [
    {
     "name": "stdout",
     "output_type": "stream",
     "text": [
      "y = 5\n"
     ]
    },
    {
     "data": {
      "image/png": "[encoded data removed]",
      "text/plain": [
       "<Figure size 432x288 with 1 Axes>"
      ]
     },
     "metadata": {
      "needs_background": "light"
     },
     "output_type": "display_data"
    }
   ],
   "source": [
    "# 挑选一个元素来展示\n",
    "\n",
    "index = 0\n",
    "plt.imshow(X_train_orig[index])\n",
    "print(\"y = \" + str(np.squeeze(Y_train_orig[:, index])))"
   ]
  },
  {
   "cell_type": "code",
   "execution_count": 8,
   "metadata": {},
   "outputs": [
    {
     "name": "stdout",
     "output_type": "stream",
     "text": [
      "number of training examples = 1080\n",
      "number of test examples = 120\n",
      "X_train shape: (12288, 1080)\n",
      "Y_train shape: (6, 1080)\n",
      "X_test shape: (12288, 120)\n",
      "Y_test shape: (6, 120)\n"
     ]
    }
   ],
   "source": [
    "# 对数据进行扁平化处理 \n",
    "# 1080 * 64 * 64 * 3 展开成 12288 * 1080\n",
    "X_train_flattern = X_train_orig.reshape(X_train_orig.shape[0], -1).T\n",
    "X_test_flattern = X_test_orig.reshape(X_test_orig.shape[0], -1).T\n",
    "\n",
    "# 简单的归一化\n",
    "# 将数据转换为 0 - 1 之间的数\n",
    "X_train = X_train_flattern / 255.\n",
    "X_test = X_test_flattern / 255.\n",
    "\n",
    "# one_hot 编码\n",
    "Y_train = convert_to_one_hot(Y_train_orig, 6)\n",
    "Y_test = convert_to_one_hot(Y_test_orig, 6)\n",
    "\n",
    "print(\"number of training examples = \" + str(X_train.shape[1]))\n",
    "print(\"number of test examples = \" + str(X_test.shape[1]))\n",
    "print(\"X_train shape: \" + str(X_train.shape))\n",
    "print(\"Y_train shape: \" + str(Y_train.shape))\n",
    "print(\"X_test shape: \" + str(X_test.shape))\n",
    "print(\"Y_test shape: \" + str(Y_test.shape))\n"
   ]
  },
  {
   "cell_type": "markdown",
   "metadata": {},
   "source": [
    "我们的模型大致结构是 LINEAR -> RELU -> LINEAR -> RELU -> LINEAR -> SOFTMAX。"
   ]
  },
  {
   "cell_type": "markdown",
   "metadata": {},
   "source": [
    "### 创建占位符\n",
    "\n",
    "我们第一个任务就是为 X 和 Y 创建占位符，这样我们就可以在执行计算图的时候，将训练集的数据填充到 tensorflow 的计算图中了。"
   ]
  },
  {
   "cell_type": "code",
   "execution_count": 9,
   "metadata": {},
   "outputs": [],
   "source": [
    "# 创建占位符\n",
    "\n",
    "def create_placeholder(n_x, n_y):\n",
    "    '''\n",
    "    n_x -- 图片向量的大小，本例中是 12288\n",
    "    n_y -- 类别数量，因为是 0-5 的数字，所以数量是 6\n",
    "    '''\n",
    "\n",
    "    '''\n",
    "    tf.placeholder(dtype, shape=None, name=None)\n",
    "    第二个参数的是数据的维度，如下传入 [n_x, None] 表示 n_x 行，不确定列\n",
    "    因为我们执行训练时，样本的数量是不同的\n",
    "    '''\n",
    "    X = tf.placeholder(tf.float32, [n_x, None], name='X')\n",
    "    Y = tf.placeholder(tf.float32, [n_y, None], name='Y')\n",
    "\n",
    "    return X, Y"
   ]
  },
  {
   "cell_type": "code",
   "execution_count": 10,
   "metadata": {},
   "outputs": [
    {
     "name": "stdout",
     "output_type": "stream",
     "text": [
      "X =  Tensor(\"X:0\", shape=(12288, None), dtype=float32)\n",
      "Y = Tensor(\"Y:0\", shape=(6, None), dtype=float32)\n"
     ]
    }
   ],
   "source": [
    "X, Y = create_placeholder(12288, 6)\n",
    "print('X = ', str(X))\n",
    "print('Y = ' + str(Y))"
   ]
  },
  {
   "cell_type": "markdown",
   "metadata": {},
   "source": [
    "### 初始化参数\n",
    "\n",
    "我们的第二个任务就是用 tensorflow 来初始化神经网络模型的参数 W 和 b。"
   ]
  },
  {
   "cell_type": "code",
   "execution_count": 32,
   "metadata": {},
   "outputs": [],
   "source": [
    "# 初始化参数\n",
    "\n",
    "def initialize_parameters():\n",
    "    # 固定随机数种子\n",
    "    tf.set_random_seed(1)\n",
    "\n",
    "    '''\n",
    "    初始化参数的 API：tf.get_variable(name, shape, initializer)\n",
    "    tf.truncated_normal_initializer：截取的正态分布\n",
    "    '''\n",
    "    W1 = tf.get_variable('W1', [25, 12288], initializer=tf.truncated_normal_initializer(stddev=0.1))\n",
    "    \n",
    "    # 我们将 b 初始化为 0\n",
    "    b1 = tf.get_variable('b1', [25, 1], initializer=tf.zeros_initializer())\n",
    "\n",
    "    W2 = tf.get_variable('W2', [12, 25], initializer=tf.truncated_normal_initializer(stddev=0.1))\n",
    "    b2 = tf.get_variable('b2', [12, 1], initializer=tf.zeros_initializer())\n",
    "\n",
    "    W3 = tf.get_variable('W3', [6, 12], initializer=tf.truncated_normal_initializer(stddev=0.1))\n",
    "    b3 = tf.get_variable('b3', [6, 1], initializer=tf.zeros_initializer())\n",
    "\n",
    "    return {\n",
    "        'W1': W1,\n",
    "        'b1': b1,\n",
    "        'W2': W2,\n",
    "        'b2': b2,\n",
    "        'W3': W3,\n",
    "        'b3': b3\n",
    "    }"
   ]
  },
  {
   "cell_type": "code",
   "execution_count": 34,
   "metadata": {},
   "outputs": [
    {
     "name": "stdout",
     "output_type": "stream",
     "text": [
      "W1 = <tf.Variable 'W1:0' shape=(25, 12288) dtype=float32>\n",
      "b1 = <tf.Variable 'b1:0' shape=(25, 1) dtype=float32>\n",
      "W2 = <tf.Variable 'W2:0' shape=(12, 25) dtype=float32>\n",
      "b2 = <tf.Variable 'b2:0' shape=(12, 1) dtype=float32>\n"
     ]
    }
   ],
   "source": [
    "tf.reset_default_graph()\n",
    "parameters = initialize_parameters()\n",
    "print(\"W1 = \" + str(parameters[\"W1\"]))\n",
    "print(\"b1 = \" + str(parameters[\"b1\"]))\n",
    "print(\"W2 = \" + str(parameters[\"W2\"]))\n",
    "print(\"b2 = \" + str(parameters[\"b2\"]))"
   ]
  },
  {
   "cell_type": "code",
   "execution_count": 33,
   "metadata": {},
   "outputs": [],
   "source": [
    "# 前向传播\n",
    "\n",
    "def forward_propagation(X, parameters):\n",
    "    W1 = parameters['W1']\n",
    "    b1 = parameters['b1']\n",
    "    W2 = parameters['W2']\n",
    "    b2 = parameters['b2']\n",
    "    W3 = parameters['W3']\n",
    "    b3 = parameters['b3']\n",
    "\n",
    "    # 计算第一层的 z，使用 relu 激活函数\n",
    "    Z1 = tf.add(tf.matmul(W1, X), b1)\n",
    "    A1 = tf.nn.relu(Z1)\n",
    "\n",
    "    Z2 = tf.add(tf.matmul(W2, A1), b2)\n",
    "    A2 = tf.nn.relu(Z2)\n",
    "\n",
    "    Z3 = tf.add(tf.matmul(W3, A2), b3)\n",
    "    # 没有计算 A3 是因为 tensorflow 会在计算成本时一起计算 A3\n",
    "\n",
    "    return Z3"
   ]
  },
  {
   "cell_type": "code",
   "execution_count": 35,
   "metadata": {},
   "outputs": [
    {
     "name": "stdout",
     "output_type": "stream",
     "text": [
      "Z3 = Tensor(\"Add_2:0\", shape=(6, None), dtype=float32)\n"
     ]
    }
   ],
   "source": [
    "tf.reset_default_graph()\n",
    "X, Y = create_placeholder(12288, 6)\n",
    "parameters = initialize_parameters()\n",
    "Z3 = forward_propagation(X, parameters)\n",
    "print('Z3 = ' + str(Z3))"
   ]
  },
  {
   "cell_type": "markdown",
   "metadata": {},
   "source": [
    "### 计算 cost 成本\n",
    "\n",
    "```python\n",
    "tf.reduce_mean(tf.nn.softmax_cross_entropy_with_logits(logits = ..., labels = ...))\n",
    "```\n",
    "- logits 是最后一层的输出，即 Z3，labels 是真实标签，即 Y\n",
    "- tf.reduce_mean 是获取张量中所有元素的平均值，这里指每个样本的平均值"
   ]
  },
  {
   "cell_type": "code",
   "execution_count": 20,
   "metadata": {},
   "outputs": [],
   "source": [
    "# 计算 cost \n",
    "\n",
    "def compute_cost(Z3, Y):\n",
    "    # tf.transpose 表示转置\n",
    "    logits = tf.transpose(Z3)\n",
    "    labels = tf.transpose(Y)\n",
    "\n",
    "    cost = tf.reduce_mean(tf.nn.softmax_cross_entropy_with_logits(logits=logits, labels=labels))\n",
    "\n",
    "    return cost"
   ]
  },
  {
   "cell_type": "code",
   "execution_count": 23,
   "metadata": {},
   "outputs": [
    {
     "name": "stdout",
     "output_type": "stream",
     "text": [
      "cost = Tensor(\"Mean:0\", shape=(), dtype=float32)\n"
     ]
    }
   ],
   "source": [
    "tf.reset_default_graph()\n",
    "\n",
    "X, Y = create_placeholder(12288, 6)\n",
    "parameters = initialize_parameters()\n",
    "Z3 = forward_propagation(X, parameters)\n",
    "cost = compute_cost(Z3, Y)\n",
    "print('cost = ' + str(cost))"
   ]
  },
  {
   "cell_type": "markdown",
   "metadata": {},
   "source": [
    "### 反向传播和更新\n",
    "\n",
    "我们可以使用 tensorflow 的一行代码完成反向传播和参数更新。\n",
    "\n",
    "只需要创建一个 optimizer 实例对象，这个实例对象可以指定优化算法，例如可以指定是用标准的梯度下降算法还是 adam 梯度下降算法。还需要指定学习率以及和哪一个 cost 函数合作。\n",
    "\n",
    "```python\n",
    "# 创建一个使用标准梯度下降算法的 optimizer 实例对象\n",
    "optimizer = tf.train.GradientDescentOptimizer(learning_rate = learning_rate).minimize(cost)\n",
    "\n",
    "# 执行 optimizer 的操作\n",
    "_ , c = sess.run([optimizer, cost], feed_dict={X: minibatch_X, Y: minibatch_Y})\n",
    "```"
   ]
  },
  {
   "cell_type": "code",
   "execution_count": 36,
   "metadata": {},
   "outputs": [],
   "source": [
    "# 构建模型\n",
    "\n",
    "def model(X_train, Y_train, X_test, Y_test, learning_rate=0.0001, num_epochs=1500, \n",
    "        minibatch_size=32, print_cost=True):\n",
    "    ops.reset_default_graph()       # 将计算图返回到默认空状态\n",
    "    tf.set_random_seed(1)\n",
    "\n",
    "    seed = 3\n",
    "    (n_x, m) = X_train.shape        # (n_x：特征数量，m：训练集中的样本数)\n",
    "    n_y = Y_train.shape[0]\n",
    "    costs = []\n",
    "\n",
    "    # 创建占位符\n",
    "    X, Y = create_placeholder(n_x, n_y)\n",
    "\n",
    "    # 初始化参数\n",
    "    parameters = initialize_parameters()\n",
    "\n",
    "    # 构建前向传播操作\n",
    "    Z3 = forward_propagation(X, parameters)\n",
    "\n",
    "    # 构建成本计算操作\n",
    "    cost = compute_cost(Z3, Y)\n",
    "\n",
    "    # 构建反向传播，指定优化算法、学习率和成本函数，这里我们使用 adam 算法\n",
    "    optimizer = tf.train.AdamOptimizer(learning_rate=learning_rate).minimize(cost)\n",
    "\n",
    "    # 定义初始化操作\n",
    "    init = tf.global_variables_initializer()\n",
    "\n",
    "    # 开始一个 tensorflow 的 session\n",
    "    with tf.Session() as session:\n",
    "        \n",
    "        # 执行初始化操作\n",
    "        session.run(init)\n",
    "\n",
    "        # 执行 epochs 指定的训练次数，一个 epoch 就是完整地向整个数据集学习一次\n",
    "        for epoch in range(num_epochs):\n",
    "            epoch_cost = 0\n",
    "            num_minibatches = int(m / minibatch_size)   # 计算子训练集数量\n",
    "            seed = seed + 1\n",
    "\n",
    "            # 将训练集分成若干子训练集\n",
    "            minibatches = random_mini_batches(X_train, Y_train, minibatch_size, seed)\n",
    "\n",
    "            # 遍历每个子训练集\n",
    "            for minibatch in minibatches:\n",
    "                (minibatch_X, minibatch_Y) = minibatch\n",
    "\n",
    "                # 执行整个训练图\n",
    "                _, minibatch_cost = session.run([optimizer, cost], feed_dict={X: minibatch_X, Y: minibatch_Y})\n",
    "\n",
    "                epoch_cost += minibatch_cost / num_minibatches\n",
    "\n",
    "            if print_cost == True and epoch % 100 == 0:\n",
    "                print (\"Cost after epoch %i: %f\" % (epoch, epoch_cost))\n",
    "            if print_cost == True and epoch % 5 == 0:\n",
    "                costs.append(epoch_cost)\n",
    "        \n",
    "        # 画出cost成本的走势图\n",
    "        plt.plot(np.squeeze(costs))\n",
    "        plt.ylabel('cost')\n",
    "        plt.xlabel('iterations (per tens)')\n",
    "        plt.title(\"Learning rate =\" + str(learning_rate))\n",
    "        plt.show()\n",
    "\n",
    "        # 从计算图中获取训练好了的参数\n",
    "        parameters = session.run(parameters)\n",
    "        print(\"Parameters have been trained!\")\n",
    "\n",
    "        # 计算在训练集和测试集上的预测精确度\n",
    "        correct_prediction = tf.equal(tf.argmax(Z3), tf.argmax(Y))\n",
    "        accuracy = tf.reduce_mean(tf.cast(correct_prediction, 'float'))\n",
    "        print('Train Accuracy:', accuracy.eval({X: X_train, Y: Y_train}))\n",
    "        print('Test Accuracy:', accuracy.eval({X: X_test, Y: Y_test}))\n",
    "\n",
    "        return parameters"
   ]
  },
  {
   "cell_type": "code",
   "execution_count": 37,
   "metadata": {},
   "outputs": [
    {
     "name": "stdout",
     "output_type": "stream",
     "text": [
      "Cost after epoch 0: 1.859356\n",
      "Cost after epoch 100: 0.797117\n",
      "Cost after epoch 200: 0.459786\n",
      "Cost after epoch 300: 0.269190\n",
      "Cost after epoch 400: 0.155759\n",
      "Cost after epoch 500: 0.079337\n",
      "Cost after epoch 600: 0.046178\n",
      "Cost after epoch 700: 0.021931\n",
      "Cost after epoch 800: 0.008391\n",
      "Cost after epoch 900: 0.004791\n",
      "Cost after epoch 1000: 0.002244\n",
      "Cost after epoch 1100: 0.001133\n",
      "Cost after epoch 1200: 0.000872\n",
      "Cost after epoch 1300: 0.000494\n",
      "Cost after epoch 1400: 0.000417\n"
     ]
    },
    {
     "data": {
      "image/png": "[encoded data removed]",
      "text/plain": [
       "<Figure size 432x288 with 1 Axes>"
      ]
     },
     "metadata": {
      "needs_background": "light"
     },
     "output_type": "display_data"
    },
    {
     "name": "stdout",
     "output_type": "stream",
     "text": [
      "Parameters have been trained!\n",
      "Train Accuracy: 1.0\n",
      "Test Accuracy: 0.8833333\n"
     ]
    },
    {
     "name": "stderr",
     "output_type": "stream",
     "text": [
      "2022-06-09 22:10:50.498319: W tensorflow/core/framework/cpu_allocator_impl.cc:80] Allocation of 53084160 exceeds 10% of free system memory.\n"
     ]
    }
   ],
   "source": [
    "# 训练模型\n",
    "\n",
    "parameters = model(X_train, Y_train, X_test, Y_test)"
   ]
  }
 ],
 "metadata": {
  "interpreter": {
   "hash": "94ab98b4b931eea8da1b5885e6fe9f1cfe685315bc68825de5fd10f928659d37"
  },
  "kernelspec": {
   "display_name": "Python 3.7.12 ('deep-learning': conda)",
   "language": "python",
   "name": "python3"
  },
  "language_info": {
   "codemirror_mode": {
    "name": "ipython",
    "version": 3
   },
   "file_extension": ".py",
   "mimetype": "text/x-python",
   "name": "python",
   "nbconvert_exporter": "python",
   "pygments_lexer": "ipython3",
   "version": "3.7.12"
  },
  "orig_nbformat": 4
 },
 "nbformat": 4,
 "nbformat_minor": 2
}
