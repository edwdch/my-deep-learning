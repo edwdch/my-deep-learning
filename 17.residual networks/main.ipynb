{
 "cells": [
  {
   "cell_type": "code",
   "execution_count": 3,
   "metadata": {},
   "outputs": [],
   "source": [
    "# 导入必需的模块\n",
    "\n",
    "import numpy as np\n",
    "import tensorflow as tf\n",
    "\n",
    "from tensorflow.keras.layers import Input, Add, Dense, Activation, ZeroPadding2D, BatchNormalization, Flatten, \\\n",
    "    Conv2D, AveragePooling2D, MaxPooling2D, GlobalMaxPooling2D\n",
    "from tensorflow.keras.models import Model, load_model\n",
    "from tensorflow.keras.preprocessing import image\n",
    "from tensorflow.keras.applications.imagenet_utils import preprocess_input\n",
    "import pydot\n",
    "from IPython.display import SVG\n",
    "from tensorflow.keras.utils import plot_model\n",
    "from resnets_utils import *\n",
    "\n",
    "import scipy.misc\n",
    "\n",
    "from matplotlib.pyplot import imshow\n",
    "%matplotlib inline"
   ]
  },
  {
   "cell_type": "markdown",
   "metadata": {},
   "source": [
    "## 构建残差网络\n",
    "\n",
    "残差网络是由残差块组成的。\n",
    "\n",
    "左图是传统的网络块，右边的是残差网络块，其实就是在传统的网络块上添加一条小路，以便让激活值和梯度值可以跳层传播，以此来避免梯度消失和爆炸。\n",
    "\n",
    "<img src=\"images/skip_connection_kiank.png\" style=\"width:650px;height:250px;\">\n",
    "\n",
    "在实现残差块时，会有两种情况：\n",
    "\n",
    "1. 跳跃传递的矩阵与目标层矩阵的维度一致\n",
    "2. 跳传矩阵与目标层矩阵不一致时，不一致时就需要变换矩阵的维度\n",
    "\n",
    "### 维度一致时的残差块\n",
    "\n",
    "小路的左边的网络层的激活值与小路右边的网络层的激活值的维度是一致的，所以可以直接跳过去。就是说$a^{[l]}$)与$a^{[l+2]}$的维度是一致的。从下图中可以看出有两条路，一条直线主路，一条弧线小路:\n",
    "\n",
    "<img src=\"images/idblock2_kiank.png\" style=\"width:650px;height:150px;\">\n",
    "\n",
    "上图是跳了2层，其实还可以跳更多层，下图就跳了3层: \n",
    "\n",
    "<img src=\"images/idblock3_kiank.png\" style=\"width:650px;height:150px;\">\n",
    "<caption><center> <u> <font> 图 4 </u><font></center></caption>\n"
   ]
  },
  {
   "cell_type": "code",
   "execution_count": 7,
   "metadata": {},
   "outputs": [],
   "source": [
    "### 维度相同时的残差块\n",
    "\n",
    "def identity_block(X, f, filters, stage, block, debug=False):\n",
    "    '''\n",
    "    实现图 4 展示的残差块\n",
    "\n",
    "    参数：\n",
    "    X -- 要跳跃的激活值矩阵\n",
    "    f -- 整型，指示卷积层的窗口大小\n",
    "    filters -- 整型数组，指示残差块中的卷积层的过滤器的个数\n",
    "    stage -- 整型，辅助给网络层取名\n",
    "    block -- 字符串，辅助给网络层取名\n",
    "\n",
    "    返回：\n",
    "    X -- 残差块的最终输出矩阵\n",
    "    '''\n",
    "\n",
    "    # 取名\n",
    "    conv_name_base = 'res' + str(stage) + block + '_branch'\n",
    "    bn_name_base = 'bn' + str(stage) + block + '_branch'\n",
    "\n",
    "    # 获取每一个卷积层对应的过滤器的个数\n",
    "    F1, F2, F3 = filters\n",
    "\n",
    "    # 定义参数初始化的方法\n",
    "    initializer = tf.keras.initializers.GlorotUniform\n",
    "\n",
    "    # 保存输入的激活值，用于插入后面的网络层中\n",
    "    X_shortcut = X\n",
    "\n",
    "    # 使用 functional API 构建模型\n",
    "    # 主路：第一组网络层，图 4 的第一组绿橙黄小方块\n",
    "    X = Conv2D(filters=F1, kernel_size=(1, 1), strides=(1, 1), padding='valid', \n",
    "                name=conv_name_base + '2a', kernel_initializer=initializer(seed=0))(X)\n",
    "    debug and print('#1 X.shape', X.shape)\n",
    "    X = BatchNormalization(axis=3, name=bn_name_base + '2a')(X)\n",
    "    X = Activation('relu')(X)\n",
    "\n",
    "    # 主路：第二组网络层，图 4 的第二组绿橙黄小方块\n",
    "    X = Conv2D(filters=F2, kernel_size=(f, f), strides=(1, 1), padding='same', \n",
    "                name=conv_name_base + '2b', kernel_initializer=initializer(seed=0))(X)\n",
    "    debug and print('#2 X.shape', X.shape)\n",
    "    X = BatchNormalization(axis=3, name=bn_name_base + '2b')(X)\n",
    "    X = Activation('relu')(X)\n",
    "\n",
    "    # 主路：第三组网络层，图 4 的第二组绿橙小方块\n",
    "    X = Conv2D(filters=F3, kernel_size=(1, 1), strides=(1, 1), padding='valid', \n",
    "                name=conv_name_base + '2c', kernel_initializer=initializer(seed=0))(X)\n",
    "    debug and print('#3 X.shape', X.shape)\n",
    "    X = BatchNormalization(axis=3, name=bn_name_base + '2c')(X)\n",
    "\n",
    "    # 小路：合并 X_shortcut 和 第三组网络层的输出激活值\n",
    "    X = Add()([X, X_shortcut])\n",
    "    X = Activation('relu')(X)\n",
    "\n",
    "    return X"
   ]
  },
  {
   "cell_type": "code",
   "execution_count": 8,
   "metadata": {},
   "outputs": [
    {
     "name": "stdout",
     "output_type": "stream",
     "text": [
      "#1 X.shape (3, 4, 4, 2)\n",
      "#2 X.shape (3, 4, 4, 4)\n",
      "#3 X.shape (3, 4, 4, 6)\n",
      "out =  [0 0 1.34546745 2.03181767 0 1.32467544]\n"
     ]
    }
   ],
   "source": [
    "# Unit test\n",
    "np.random.seed(1)\n",
    "X = tf.cast(np.random.randn(3, 4, 4, 6),tf.float32)\n",
    "A = identity_block(X, f=2, filters=[2, 4, 6], stage=1, block='a', debug=True)\n",
    "tf.print(\"out = \", A[1][1][0])\n"
   ]
  },
  {
   "cell_type": "markdown",
   "metadata": {},
   "source": [
    "### 维度不同时的情况\n",
    "\n",
    "当维度不同时，我们就不能直接将前面的激活值和后面的激活值矩阵合并在一起，所以需要在小路上加个卷积层来改变前面的激活矩阵的维度。如下图所示,小路上加了一个conv2d卷积层: \n",
    "\n",
    "<img src=\"images/convblock_kiank.png\" style=\"width:650px;height:200px;\">\n",
    "<caption><center> <u> <font > 图 5 </u></center></caption>"
   ]
  },
  {
   "cell_type": "code",
   "execution_count": 9,
   "metadata": {},
   "outputs": [],
   "source": [
    "# 实现图 5 中的残差块\n",
    "\n",
    "def convolutional_block(X, f, filters, stage, block, s=2, debug=False):\n",
    "    conv_name_base = 'res' + str(stage) + block + '_branch'\n",
    "    bn_name_base = 'bn' + str(stage) + block + '_branch'\n",
    "\n",
    "    F1, F2, F3 = filters\n",
    "\n",
    "    initializer = tf.keras.initializers.GlorotUniform\n",
    "\n",
    "    X_shortcut = X\n",
    "\n",
    "    # 1\n",
    "    X = Conv2D(filters=F1, kernel_size=(1, 1), strides=(s, s), padding='valid', \n",
    "                name=conv_name_base + '2a', kernel_initializer=initializer(seed=0))(X)\n",
    "    debug and print('#1 X.shape', X.shape)\n",
    "    X = BatchNormalization(axis=3, name=bn_name_base + '2a')(X)\n",
    "    X = Activation('relu')(X)\n",
    "\n",
    "    # 2\n",
    "    X = Conv2D(filters=F2, kernel_size=(f, f), strides=(1, 1), padding='same', \n",
    "                name=conv_name_base + '2b', kernel_initializer=initializer(seed=0))(X)\n",
    "    debug and print('#2 X.shape', X.shape)\n",
    "    X = BatchNormalization(axis=3, name=bn_name_base + '2b')(X)\n",
    "    X = Activation('relu')(X)\n",
    "\n",
    "    # 3\n",
    "    X = Conv2D(filters=F3, kernel_size=(1, 1), strides=(1, 1), padding='valid', \n",
    "                name=conv_name_base + '2c', kernel_initializer=initializer(seed=0))(X)\n",
    "    debug and print('#3 X.shape', X.shape)\n",
    "    X = BatchNormalization(axis=3, name=bn_name_base + '2c')(X)\n",
    "\n",
    "    # 在小路上加上一个卷积层和一个 BatchNormalization\n",
    "    # 卷积层会改变 X_shortcut 的值，就可以与 X 矩阵合并在一起了\n",
    "    X_shortcut = Conv2D(filters=F3, kernel_size=(1, 1), strides=(s, s), padding='valid',\n",
    "                        name=conv_name_base + '1', kernel_initializer=initializer(seed=0))(X_shortcut)\n",
    "    X_shortcut = BatchNormalization(axis=3, name=bn_name_base + '1')(X_shortcut)\n",
    "\n",
    "    # 将变维度后的X_shortcut 与 X 合并在一起\n",
    "    X = Add()([X, X_shortcut])\n",
    "    X = Activation('relu')(X)\n",
    "\n",
    "    return X"
   ]
  },
  {
   "cell_type": "code",
   "execution_count": 10,
   "metadata": {},
   "outputs": [
    {
     "name": "stdout",
     "output_type": "stream",
     "text": [
      "#1 X.shape (3, 2, 2, 2)\n",
      "#2 X.shape (3, 2, 2, 4)\n",
      "#3 X.shape (3, 2, 2, 6)\n",
      "out =  [0 0 0 0.892965674 0 0.198827296]\n"
     ]
    }
   ],
   "source": [
    "# Unit test\n",
    "np.random.seed(1)\n",
    "X = tf.cast(np.random.randn(3, 4, 4, 6),dtype=tf.float32)\n",
    "A = convolutional_block(X, f=2, filters=[2, 4, 6], stage=1, block='a', debug=True)\n",
    "tf.print(\"out = \", (A[1][1][0]))"
   ]
  },
  {
   "cell_type": "markdown",
   "metadata": {},
   "source": [
    "## 构建 ResNet50 网络\n",
    "> 一个 50 层的残差网络\n",
    "\n",
    " - ID BLOCK 是指维度相同时的残差块，ID BLOCK x3 表示有 3 组这样的残差块。\n",
    " - CONV BLOCK 是指维度不同时的残差块\n",
    "\n",
    "<img src=\"images/resnet_kiank.png\" style=\"width:850px;height:150px;\">\n",
    "<caption><center> <u> <font> 图 6: ResNet-50模型 </center></caption>"
   ]
  },
  {
   "cell_type": "code",
   "execution_count": 11,
   "metadata": {},
   "outputs": [],
   "source": [
    "# 实现 ResNet50\n",
    "\n",
    "def ResNet50(input_shape=(64, 64, 3), classes=6):\n",
    "    '''\n",
    "    参数：\n",
    "    input_shape -- 输入的图像矩阵的维度\n",
    "    classes -- 类别数量\n",
    "\n",
    "    Returns:\n",
    "    model -- 网络模型\n",
    "    '''\n",
    "\n",
    "    # 根据输入维度定义一个输入变量\n",
    "    X_input = Input(input_shape)\n",
    "\n",
    "    initializer = tf.keras.initializers.GlorotUniform\n",
    "\n",
    "    # 零填充\n",
    "    X = ZeroPadding2D((3, 3))(X_input)\n",
    "\n",
    "    # Stage 1\n",
    "    X = Conv2D(filters=64, kernel_size=(7, 7), strides=(2, 2), name='conv1', \n",
    "                kernel_initializer=initializer(seed=0))(X)\n",
    "    X = BatchNormalization(axis=3, name='bn_conv1')(X)\n",
    "    X = Activation('relu')(X)\n",
    "    X = MaxPooling2D(pool_size=(3, 3), strides=(2, 2))(X)\n",
    "\n",
    "    # Stage 2\n",
    "    X = convolutional_block(X, f=3, filters=[64, 64, 256], stage=2, block='a', s=1)\n",
    "    X = identity_block(X, 3, [64, 64, 256], stage=2, block='b')\n",
    "    X = identity_block(X, 3, [64, 64, 256], stage=2, block='c')\n",
    "\n",
    "    # Stage 3\n",
    "    X = convolutional_block(X, f=3, filters=[128, 128, 512], stage=3, block='a', s=2)\n",
    "    X = identity_block(X, 3, [128, 128, 512], stage=3, block='b')\n",
    "    X = identity_block(X, 3, [128, 128, 512], stage=3, block='c')\n",
    "    X = identity_block(X, 3, [128, 128, 512], stage=3, block='d')\n",
    "\n",
    "    # Stage 4\n",
    "    X = convolutional_block(X, f=3, filters=[256, 256, 1024], stage=4, block='a', s=2)\n",
    "    X = identity_block(X, 3, [256, 256, 1024], stage=4, block='b')\n",
    "    X = identity_block(X, 3, [256, 256, 1024], stage=4, block='c')\n",
    "    X = identity_block(X, 3, [256, 256, 1024], stage=4, block='d')\n",
    "    X = identity_block(X, 3, [256, 256, 1024], stage=4, block='e')\n",
    "    X = identity_block(X, 3, [256, 256, 1024], stage=4, block='f')\n",
    "\n",
    "    # Stage 5\n",
    "    X = convolutional_block(X, f=3, filters=[512, 512, 2048], stage=5, block='a', s=2)\n",
    "    X = identity_block(X, 3, [512, 512, 2048], stage=5, block='b')\n",
    "    X = identity_block(X, 3, [512, 512, 2048], stage=5, block='c')\n",
    "\n",
    "    # 平均池化层\n",
    "    X = AveragePooling2D(pool_size=(2, 2), padding='same')(X)\n",
    "\n",
    "    # 扁平化\n",
    "    X = Flatten()(X)\n",
    "    \n",
    "    # 对接全连接层\n",
    "    X = Dense(classes, activation='softmax', name='fc' + str(classes), \n",
    "                kernel_initializer=initializer(seed=0))(X)\n",
    "\n",
    "    # 构建模型\n",
    "    model = Model(inputs=X_input, outputs=X, name='ResNet50')\n",
    "\n",
    "    return model"
   ]
  },
  {
   "cell_type": "code",
   "execution_count": 12,
   "metadata": {},
   "outputs": [],
   "source": [
    "model = ResNet50(input_shape=(64, 64, 3), classes=6)"
   ]
  },
  {
   "cell_type": "code",
   "execution_count": 13,
   "metadata": {},
   "outputs": [],
   "source": [
    "# 编程模型\n",
    "model.compile(optimizer='adam', loss='categorical_crossentropy', metrics=['accuracy'])"
   ]
  },
  {
   "cell_type": "markdown",
   "metadata": {},
   "source": [
    "开始训练模型，首先加载数据集\n",
    "\n",
    "<img src=\"images/signs_data_kiank.png\" style=\"width:600px;height:300px;\">\n",
    "<caption><center> <u> <font > 图7: 手势数据集 </center></caption>"
   ]
  },
  {
   "cell_type": "code",
   "execution_count": 15,
   "metadata": {},
   "outputs": [
    {
     "name": "stdout",
     "output_type": "stream",
     "text": [
      "number of training examples = 1080\n",
      "number of test examples = 120\n",
      "X_train shape: (1080, 64, 64, 3)\n",
      "Y_train shape: (1080, 6)\n",
      "X_test shape: (120, 64, 64, 3)\n",
      "Y_test shape: (120, 6)\n"
     ]
    }
   ],
   "source": [
    "X_train_orig, Y_train_orig, X_test_orig, Y_test_orig, classes = load_dataset()\n",
    "\n",
    "X_train = X_train_orig / 255\n",
    "X_test = X_test_orig / 255\n",
    "\n",
    "Y_train = convert_to_one_hot(Y_train_orig, 6).T\n",
    "Y_test = convert_to_one_hot(Y_test_orig, 6).T\n",
    "\n",
    "print(\"number of training examples = \" + str(X_train.shape[0]))\n",
    "print(\"number of test examples = \" + str(X_test.shape[0]))\n",
    "print(\"X_train shape: \" + str(X_train.shape))\n",
    "print(\"Y_train shape: \" + str(Y_train.shape))\n",
    "print(\"X_test shape: \" + str(X_test.shape))\n",
    "print(\"Y_test shape: \" + str(Y_test.shape))"
   ]
  },
  {
   "cell_type": "code",
   "execution_count": 18,
   "metadata": {},
   "outputs": [
    {
     "name": "stderr",
     "output_type": "stream",
     "text": [
      "2022-07-03 15:39:55.032611: W tensorflow/core/framework/cpu_allocator_impl.cc:80] Allocation of 53084160 exceeds 10% of free system memory.\n"
     ]
    },
    {
     "name": "stdout",
     "output_type": "stream",
     "text": [
      "Epoch 1/20\n",
      "34/34 [==============================] - 5s 139ms/step - loss: 0.0815 - accuracy: 0.9750\n",
      "Epoch 2/20\n",
      "34/34 [==============================] - 5s 139ms/step - loss: 0.1114 - accuracy: 0.9639\n",
      "Epoch 3/20\n",
      "34/34 [==============================] - 5s 139ms/step - loss: 0.2110 - accuracy: 0.9269\n",
      "Epoch 4/20\n",
      "34/34 [==============================] - 5s 147ms/step - loss: 0.1272 - accuracy: 0.9620\n",
      "Epoch 5/20\n",
      "34/34 [==============================] - 5s 140ms/step - loss: 0.1730 - accuracy: 0.9407\n",
      "Epoch 6/20\n",
      "34/34 [==============================] - 5s 136ms/step - loss: 0.0943 - accuracy: 0.9694\n",
      "Epoch 7/20\n",
      "34/34 [==============================] - 5s 138ms/step - loss: 0.0808 - accuracy: 0.9704\n",
      "Epoch 8/20\n",
      "34/34 [==============================] - 5s 139ms/step - loss: 0.0495 - accuracy: 0.9861\n",
      "Epoch 9/20\n",
      "34/34 [==============================] - 5s 137ms/step - loss: 0.0335 - accuracy: 0.9870\n",
      "Epoch 10/20\n",
      "34/34 [==============================] - 5s 137ms/step - loss: 0.8172 - accuracy: 0.8620\n",
      "Epoch 11/20\n",
      "34/34 [==============================] - 5s 136ms/step - loss: 0.6979 - accuracy: 0.8463\n",
      "Epoch 12/20\n",
      "34/34 [==============================] - 5s 137ms/step - loss: 0.4394 - accuracy: 0.9130\n",
      "Epoch 13/20\n",
      "34/34 [==============================] - 5s 137ms/step - loss: 0.1271 - accuracy: 0.9537\n",
      "Epoch 14/20\n",
      "34/34 [==============================] - 5s 139ms/step - loss: 0.3436 - accuracy: 0.9463\n",
      "Epoch 15/20\n",
      "34/34 [==============================] - 5s 139ms/step - loss: 0.2265 - accuracy: 0.9296\n",
      "Epoch 16/20\n",
      "34/34 [==============================] - 5s 138ms/step - loss: 0.2070 - accuracy: 0.9417\n",
      "Epoch 17/20\n",
      "34/34 [==============================] - 5s 137ms/step - loss: 0.0593 - accuracy: 0.9843\n",
      "Epoch 18/20\n",
      "34/34 [==============================] - 5s 138ms/step - loss: 0.0623 - accuracy: 0.9843\n",
      "Epoch 19/20\n",
      "34/34 [==============================] - 5s 138ms/step - loss: 0.0131 - accuracy: 0.9972\n",
      "Epoch 20/20\n",
      "34/34 [==============================] - 5s 137ms/step - loss: 0.0148 - accuracy: 0.9944\n"
     ]
    },
    {
     "data": {
      "text/plain": [
       "<keras.callbacks.History at 0x7f2d28230dd0>"
      ]
     },
     "execution_count": 18,
     "metadata": {},
     "output_type": "execute_result"
    }
   ],
   "source": [
    "# 训练模型，由于使用 CPU 训练，只训练 2 个 epoch \n",
    "model.fit(X_train, Y_train, epochs = 20, batch_size = 32)"
   ]
  },
  {
   "cell_type": "code",
   "execution_count": 20,
   "metadata": {},
   "outputs": [
    {
     "name": "stdout",
     "output_type": "stream",
     "text": [
      "4/4 [==============================] - 0s 41ms/step - loss: 0.0885 - accuracy: 0.9750\n",
      "Loss = 0.08850742876529694\n",
      "Test Accuracy = 0.9750000238418579\n"
     ]
    }
   ],
   "source": [
    "# 测试模型的精确度\n",
    "preds = model.evaluate(X_test, Y_test)\n",
    "print(\"Loss = \" + str(preds[0]))\n",
    "print(\"Test Accuracy = \" + str(preds[1]))"
   ]
  }
 ],
 "metadata": {
  "kernelspec": {
   "display_name": "Python 3.7.12 ('deep-learning': conda)",
   "language": "python",
   "name": "python3"
  },
  "language_info": {
   "codemirror_mode": {
    "name": "ipython",
    "version": 3
   },
   "file_extension": ".py",
   "mimetype": "text/x-python",
   "name": "python",
   "nbconvert_exporter": "python",
   "pygments_lexer": "ipython3",
   "version": "3.7.12"
  },
  "orig_nbformat": 4,
  "vscode": {
   "interpreter": {
    "hash": "6a9b108a0d25141dbb0b04bb7a8213678e901e5df80fa00a5ef534138fee554c"
   }
  }
 },
 "nbformat": 4,
 "nbformat_minor": 2
}
