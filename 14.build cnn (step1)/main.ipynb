{
 "cells": [
  {
   "cell_type": "code",
   "execution_count": 3,
   "metadata": {},
   "outputs": [
    {
     "name": "stdout",
     "output_type": "stream",
     "text": [
      "The autoreload extension is already loaded. To reload it, use:\n",
      "  %reload_ext autoreload\n"
     ]
    }
   ],
   "source": [
    "# 导入必需的库\n",
    "\n",
    "import numpy as np\n",
    "import h5py\n",
    "import matplotlib.pyplot as plt\n",
    "\n",
    "%matplotlib inline\n",
    "plt.rcParams['figure.figsize'] = (5.0, 4.0) \n",
    "plt.rcParams['image.interpolation'] = 'nearest'\n",
    "plt.rcParams['image.cmap'] = 'gray'\n",
    "\n",
    "%load_ext autoreload\n",
    "%autoreload 2\n",
    "\n",
    "np.random.seed(1)"
   ]
  },
  {
   "cell_type": "markdown",
   "metadata": {},
   "source": [
    "## 卷积层\n",
    "\n",
    "卷积层会把一个矩阵转化成另一个不同尺寸的矩阵，如下图所示 \n",
    "\n",
    "<img src=\"images/conv_nn.png\" style=\"width:350px;height:200px;\">\n",
    "\n",
    "### 1. 零填补 (Zero-Padding)\n",
    "\n",
    "<img src=\"images/PAD.png\" style=\"width:600px;height:400px;\">\n",
    "\n",
    "主要作用如下：\n",
    "1. 可以让我们避免矩阵的尺寸越来越小\n",
    "2. 用于保留矩阵的边界信息\n"
   ]
  },
  {
   "cell_type": "code",
   "execution_count": 6,
   "metadata": {},
   "outputs": [],
   "source": [
    "def zero_pad(X, pad):\n",
    "    '''\n",
    "    给样本集 X 的所有样本进行零填补\n",
    "\n",
    "    参数：\n",
    "    X -- 样本集，维度是 (m, n_H, n_W, n_C)\n",
    "         m 表示样本数，n_H 表示图片高度，n_W 表示图片宽度，n_C 表示图片深度 (RGB 为 3)\n",
    "    pad -- 图片的 padding 格数\n",
    "    '''\n",
    "\n",
    "    # 我们只需要给图片加上 padding，对于样本数和图片深度不需要加上 padding\n",
    "    # 因此样本数和图片深度传入的参数为 (0, 0)\n",
    "    # 图片高度和图片宽度传入的参数为 (pad, pad)\n",
    "    return np.pad(X, ((0, 0), (pad, pad), (pad, pad), (0, 0)), 'constant', constant_values=0)"
   ]
  },
  {
   "cell_type": "code",
   "execution_count": 7,
   "metadata": {},
   "outputs": [
    {
     "name": "stdout",
     "output_type": "stream",
     "text": [
      "x.shape = (4, 3, 3, 2)\n",
      "x_pad.shape = (4, 7, 7, 2)\n",
      "x[1, 1] = [[ 0.90085595 -0.68372786]\n",
      " [-0.12289023 -0.93576943]\n",
      " [-0.26788808  0.53035547]]\n",
      "x_pad[1, 1] = [[0. 0.]\n",
      " [0. 0.]\n",
      " [0. 0.]\n",
      " [0. 0.]\n",
      " [0. 0.]\n",
      " [0. 0.]\n",
      " [0. 0.]]\n"
     ]
    },
    {
     "data": {
      "text/plain": [
       "<matplotlib.image.AxesImage at 0x7f6d699b1ed0>"
      ]
     },
     "execution_count": 7,
     "metadata": {},
     "output_type": "execute_result"
    },
    {
     "data": {
      "image/png": "[encoded data removed]",
      "text/plain": [
       "<Figure size 360x288 with 2 Axes>"
      ]
     },
     "metadata": {
      "needs_background": "light"
     },
     "output_type": "display_data"
    }
   ],
   "source": [
    "# 单元测试\n",
    "np.random.seed(1)\n",
    "x = np.random.randn(4, 3, 3, 2)\n",
    "x_pad = zero_pad(x, 2)\n",
    "print (\"x.shape =\", x.shape)\n",
    "print (\"x_pad.shape =\", x_pad.shape)\n",
    "print (\"x[1, 1] =\", x[1, 1])\n",
    "print (\"x_pad[1, 1] =\", x_pad[1, 1])\n",
    "\n",
    "fig, axarr = plt.subplots(1, 2)\n",
    "axarr[0].set_title('x')\n",
    "axarr[0].imshow(x[0,:,:,0])\n",
    "axarr[1].set_title('x_pad')\n",
    "axarr[1].imshow(x_pad[0,:,:,0])"
   ]
  },
  {
   "cell_type": "markdown",
   "metadata": {},
   "source": [
    "## 2. 单步卷积\n",
    "\n",
    "过滤器 `3x3`，卷积步长 `1`\n",
    "\n",
    "<img src=\"images/Convolution_schematic.gif\" style=\"width:500px;height:350px;\">"
   ]
  },
  {
   "cell_type": "code",
   "execution_count": 8,
   "metadata": {},
   "outputs": [],
   "source": [
    "def conv_single_step(a_slice_prev, W, b):\n",
    "    '''\n",
    "    单步卷积\n",
    "\n",
    "    参数：\n",
    "    a_slice_prev -- 输入矩阵的一小块数据，维度 (f, f, n_C_prev)\n",
    "    W -- 权重参数 w，指过滤器，维度 (f, f, n_C_prev)\n",
    "    b -- 阈值 b，每个过滤器都有一个对应的阈值，维度 (1, 1, 1)\n",
    "\n",
    "    返回值：\n",
    "    Z -- 卷积后得到的一个数值，即输出矩阵中的一个元素\n",
    "    '''\n",
    "\n",
    "    s = np.multiply(a_slice_prev, W) + b\n",
    "    return np.sum(s)"
   ]
  },
  {
   "cell_type": "code",
   "execution_count": 10,
   "metadata": {},
   "outputs": [
    {
     "name": "stdout",
     "output_type": "stream",
     "text": [
      "Z = -23.16021220252078\n"
     ]
    }
   ],
   "source": [
    "# 单元测试\n",
    "\n",
    "np.random.seed(1)\n",
    "a_slice_prev = np.random.randn(4, 4, 3)\n",
    "W = np.random.randn(4, 4, 3)\n",
    "b = np.random.randn(1, 1, 1)\n",
    "\n",
    "Z = conv_single_step(a_slice_prev, W, b)\n",
    "print(\"Z =\", Z)"
   ]
  },
  {
   "cell_type": "markdown",
   "metadata": {},
   "source": [
    "## 3. 前向传播\n",
    "\n",
    "<video width=\"620\" height=\"440\" src=\"images/conv_kiank.mp4\" type=\"video/mp4\" controls>\n",
    "</video>\n",
    "\n",
    "1. 在python中，通过开始索引和结束索引，可以获取数组中某一区域的元素。例如，如果你想获取一个(5,5,3)矩阵中的左上角的一个2x2的子矩阵，那么你可以使用下面的代码:\n",
    "```python\n",
    "a_slice_prev = a_prev[0:2,0:2,:]\n",
    "```\n",
    "\n",
    "2. 为了从矩阵中获取一个子矩阵（一小块数据），我们首先需要计算出子矩阵在母矩阵中的坐标，纵向开始索引 `vert_start`, 纵向结束索引 `vert_end`, 横向开始索引 `horiz_start` 和横向结束索引 `horiz_end`。然后就可以用这些索引来定位一个子矩阵，如下图所示。\n",
    "\n",
    "<img src=\"images/vert_horiz_kiank.png\" style=\"width:400px;height:300px;\">\n",
    "\n",
    "函数中还会用到如下公式来计算输出矩阵的维度:\n",
    "$$ n_H = \\lfloor \\frac{n_{H_{prev}} - f + 2 \\times pad}{stride} \\rfloor +1 $$\n",
    "$$ n_W = \\lfloor \\frac{n_{W_{prev}} - f + 2 \\times pad}{stride} \\rfloor +1 $$\n",
    "$$ n_C = \\text{这个是过滤器的个数}$$"
   ]
  },
  {
   "cell_type": "code",
   "execution_count": 13,
   "metadata": {},
   "outputs": [],
   "source": [
    "def conv_forward(A_prev, W, b, hparameters):\n",
    "    '''\n",
    "    卷积网络的前向传播\n",
    "\n",
    "    参数：\n",
    "    A_prev -- 本层的输入矩阵，即上一层的输出矩阵，维度 (m, n_H_prev, n_W_prev, n_C_prev)\n",
    "    W -- 权重，即过滤器，维度 (f, f, n_C_prev, n_C)，n_C 表示过滤器个数\n",
    "    b -- 阈值，维度 (1, 1, 1, n_C)，一个过滤器配一个阈值\n",
    "    hparameters -- 超参数步长 s 和 padding 数 p\n",
    "    '''\n",
    "\n",
    "    (m, n_H_prev, n_W_prev, n_C_prev) = A_prev.shape\n",
    "\n",
    "    (f, f, n_C_prev, n_C) = W.shape\n",
    "\n",
    "    stride = hparameters['stride']  # 步长\n",
    "    pad = hparameters['pad']        # 填补数量 p\n",
    "\n",
    "    # 计算输出矩阵的维度 (根据上述公式)\n",
    "    # 使用 int 实现向下取整\n",
    "    n_H = int((n_H_prev - f + 2 * pad) / stride) + 1\n",
    "    n_W = int((n_W_prev - f + 2 * pad) / stride) + 1\n",
    "\n",
    "    # 初始化输出矩阵\n",
    "    Z = np.zeros((m, n_H, n_W, n_C))\n",
    "\n",
    "    # 给输入矩阵进行零填补\n",
    "    A_prev_pad = zero_pad(A_prev, pad)\n",
    "\n",
    "    # 遍历每一个样本\n",
    "    for i in range(m):\n",
    "        a_prev_pad = A_prev_pad[i]      # 取出样本 i\n",
    "        for h in range(n_H):            # 遍历输出矩阵的高\n",
    "            for w in range(n_W):        # 遍历输出矩阵的宽\n",
    "                # 计算卷积区域\n",
    "                vert_start = h * stride\n",
    "                vert_end = vert_start + f\n",
    "                horiz_start = w * stride\n",
    "                horiz_end = horiz_start + f\n",
    "                a_slice_prev = a_prev_pad[vert_start:vert_end, horiz_start:horiz_end]\n",
    "                for c in range(n_C):    # 遍历过滤器个数\n",
    "                    Z[i, h, w, c] = conv_single_step(a_slice_prev, W[..., c], b [..., c])\n",
    "    \n",
    "    assert(Z.shape == (m, n_H, n_W, n_C))\n",
    "\n",
    "    cache = (A_prev, W, b, hparameters)\n",
    "\n",
    "    return Z, cache"
   ]
  },
  {
   "cell_type": "code",
   "execution_count": 14,
   "metadata": {},
   "outputs": [
    {
     "name": "stdout",
     "output_type": "stream",
     "text": [
      "Z's mean = 0.15585932488906465\n",
      "cache_conv[0][1][2][3] = [-0.20075807  0.18656139  0.41005165]\n"
     ]
    }
   ],
   "source": [
    "# unit test\n",
    "\n",
    "np.random.seed(1)\n",
    "A_prev = np.random.randn(10, 4, 4, 3)\n",
    "W = np.random.randn(2, 2, 3, 8)\n",
    "b = np.random.randn(1, 1, 1, 8)\n",
    "hparameters = {\"pad\" : 2,\n",
    "               \"stride\": 1}\n",
    "\n",
    "Z, cache_conv = conv_forward(A_prev, W, b, hparameters)\n",
    "print(\"Z's mean =\", np.mean(Z))\n",
    "print(\"cache_conv[0][1][2][3] =\", cache_conv[0][1][2][3])"
   ]
  }
 ],
 "metadata": {
  "kernelspec": {
   "display_name": "Python 3.7.12 ('deep-learning')",
   "language": "python",
   "name": "python3"
  },
  "language_info": {
   "codemirror_mode": {
    "name": "ipython",
    "version": 3
   },
   "file_extension": ".py",
   "mimetype": "text/x-python",
   "name": "python",
   "nbconvert_exporter": "python",
   "pygments_lexer": "ipython3",
   "version": "3.7.12"
  },
  "orig_nbformat": 4,
  "vscode": {
   "interpreter": {
    "hash": "94ab98b4b931eea8da1b5885e6fe9f1cfe685315bc68825de5fd10f928659d37"
   }
  }
 },
 "nbformat": 4,
 "nbformat_minor": 2
}
