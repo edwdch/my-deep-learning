{
 "cells": [
  {
   "cell_type": "markdown",
   "metadata": {},
   "source": [
    "### Eager Execution\n",
    "\n",
    "#### 1.X 版本\n",
    "\n",
    "我们要构建好计算图 graph 后，再用 session 来执行 graph。即 Graph Execution。\n",
    "\n",
    "#### 2.X 版本\n",
    "\n",
    "2.X 的代码不需要 session 了，可以像编写普通的 Python 代码一样立即执行。即 Eager Execution。"
   ]
  },
  {
   "cell_type": "code",
   "execution_count": 2,
   "metadata": {},
   "outputs": [],
   "source": [
    "# 导入 1.X 版本\n",
    "import tensorflow.compat.v1 as tfv1\n",
    "tfv1.compat.v1.enable_eager_execution();\n",
    "\n",
    "# 导入 2.X 版本\n",
    "import tensorflow as tf\n",
    "\n",
    "import numpy as np\n",
    "import timeit\n",
    "from datetime import datetime\n",
    "\n",
    "from tensorflow import keras\n",
    "from tensorflow.keras import layers"
   ]
  },
  {
   "cell_type": "code",
   "execution_count": 3,
   "metadata": {},
   "outputs": [
    {
     "name": "stdout",
     "output_type": "stream",
     "text": [
      "9\n"
     ]
    }
   ],
   "source": [
    "# 1.X 版本代码\n",
    "g = tfv1.Graph()\n",
    "with g.as_default():\n",
    "    y_hat = tfv1.constant(36, name='y_hat')\n",
    "    y = tfv1.constant(39, name='y')\n",
    "    loss = tfv1.Variable((y-y_hat)**2, name='loss')\n",
    "\n",
    "with tfv1.Session(graph=g) as sess:\n",
    "    init = tfv1.global_variables_initializer()\n",
    "    sess.run(init)\n",
    "    result = sess.run(loss)\n",
    "    print(result)"
   ]
  },
  {
   "cell_type": "code",
   "execution_count": 6,
   "metadata": {},
   "outputs": [
    {
     "name": "stdout",
     "output_type": "stream",
     "text": [
      "9\n"
     ]
    }
   ],
   "source": [
    "# 2.X 版本代码\n",
    "\n",
    "y_hat_2 = tf.constant(36)\n",
    "y_2 = tf.constant(39)\n",
    "\n",
    "loss2 = tf.Variable((y_2 - y_hat_2)**2)\n",
    "print(loss2.numpy())"
   ]
  },
  {
   "cell_type": "markdown",
   "metadata": {},
   "source": [
    "### 引入了 tf.function\n",
    "\n",
    "2.x的Eager模式有许多优点，例如代码简洁，还有就是能立即执行立即返回结果，从而使调式代码时也变得更轻松.....但是eager模式也有缺点，那就是代码的运行效率没有graph模式的高。\n",
    "\n",
    "因为graph模式是将大量操作构建成一个graph后再一致性执行的，所以执行效率要高。为了兼顾eager模式的开发便利和graph模式的运行高效，2.x引入了tf.function。\n",
    "\n",
    "通过tf.function可以将eager模式下的代码转换成graph模式，也就是说，我们在eager模式下编写代码然后在graph模式下运行代码。"
   ]
  },
  {
   "cell_type": "code",
   "execution_count": 4,
   "metadata": {},
   "outputs": [
    {
     "name": "stdout",
     "output_type": "stream",
     "text": [
      "[[12.]]\n",
      "[[12.]]\n"
     ]
    }
   ],
   "source": [
    "# 定义一个 Python function\n",
    "def a_regular_function(x, y, b):\n",
    "    x = tf.matmul(x, y)\n",
    "    x = x + b\n",
    "    return x\n",
    "\n",
    "# `a_function_that_use_a_graph` 是一个 Tensorflow `Function`\n",
    "a_function_that_use_a_graph = tf.function(a_regular_function)\n",
    "\n",
    "x1 = tf.constant([[1.0, 2.0]])\n",
    "y1 = tf.constant([[2.0], [3.0]])\n",
    "b1 = tf.constant(4.0)\n",
    "\n",
    "orig_value = a_regular_function(x1, y1, b1).numpy()\n",
    "tf_function_value = a_function_that_use_a_graph(x1, y1, b1).numpy()\n",
    "\n",
    "assert(orig_value == tf_function_value)\n",
    "print(orig_value)\n",
    "print(tf_function_value)"
   ]
  },
  {
   "cell_type": "code",
   "execution_count": 5,
   "metadata": {},
   "outputs": [
    {
     "name": "stdout",
     "output_type": "stream",
     "text": [
      "Eager execution: 1.878658000001451\n",
      "Graph execution: 0.6283134999976028\n"
     ]
    }
   ],
   "source": [
    "# 测试 tf.function 提升效率\n",
    "\n",
    "x = tf.random.uniform(shape=[10, 10], minval=-1, maxval=2, dtype=tf.dtypes.int32)\n",
    "\n",
    "def power(x, y):\n",
    "    result = tf.eye(10, dtype=tf.dtypes.int32)\n",
    "    for _ in range(y):\n",
    "        result = tf.matmul(x, result)\n",
    "    return result\n",
    "\n",
    "print(\"Eager execution:\", timeit.timeit(lambda: power(x, 100), number=1000))\n",
    "\n",
    "power_as_graph = tf.function(power)\n",
    "print(\"Graph execution:\", timeit.timeit(lambda: power_as_graph(x, 100), number=1000))"
   ]
  },
  {
   "cell_type": "markdown",
   "metadata": {},
   "source": [
    "tf.function不仅仅只作用于顶层的python function，它也作用于内嵌的python function。"
   ]
  },
  {
   "cell_type": "code",
   "execution_count": 6,
   "metadata": {},
   "outputs": [
    {
     "data": {
      "text/plain": [
       "array([[12.]], dtype=float32)"
      ]
     },
     "execution_count": 6,
     "metadata": {},
     "output_type": "execute_result"
    }
   ],
   "source": [
    "def inner_function(x, y, b):\n",
    "    x = tf.matmul(x, y)\n",
    "    x = x + b\n",
    "    return x\n",
    "\n",
    "# 把 tf.function 当作修饰符来用\n",
    "@tf.function\n",
    "def outer_function(x):\n",
    "    y = tf.constant([[2.0], [3.0]])\n",
    "    b = tf.constant(4.0)\n",
    "\n",
    "    return inner_function(x, y, b)\n",
    "\n",
    "outer_function(tf.constant([[1.0, 2.0]])).numpy()"
   ]
  },
  {
   "cell_type": "markdown",
   "metadata": {},
   "source": [
    "### 构建模型的三种方式\n",
    "\n",
    "- Sequential Model\n",
    "- Functional API\n",
    "- Subclassing Model"
   ]
  },
  {
   "cell_type": "code",
   "execution_count": 8,
   "metadata": {},
   "outputs": [
    {
     "data": {
      "image/png": "[encoded data removed]",
      "text/plain": [
       "<IPython.core.display.Image object>"
      ]
     },
     "execution_count": 8,
     "metadata": {},
     "output_type": "execute_result"
    }
   ],
   "source": [
    "# 用 Sequential model 的方式构建一个模型\n",
    "\n",
    "model = keras.Sequential(\n",
    "    [\n",
    "        layers.Dense(2, activation='relu', name='layer1'),\n",
    "        layers.Dense(3, activation='relu', name='layer2'),\n",
    "        layers.Dense(4, name='layer3')\n",
    "    ]\n",
    ")\n",
    "x = tf.ones((3, 3))\n",
    "y = model(x)\n",
    "\n",
    "keras.utils.plot_model(model, \"Sequential_model.png\")"
   ]
  },
  {
   "cell_type": "code",
   "execution_count": 10,
   "metadata": {},
   "outputs": [
    {
     "data": {
      "image/png": "[encoded data removed]",
      "text/plain": [
       "<IPython.core.display.Image object>"
      ]
     },
     "execution_count": 10,
     "metadata": {},
     "output_type": "execute_result"
    }
   ],
   "source": [
    "# 用 Function API 方式构建模型\n",
    "\n",
    "input1 = keras.Input(shape=(3,3), name='input1')\n",
    "input2 = keras.Input(shape=(3,3), name='input2')\n",
    "layer1 = layers.Dense(2, activation='relu', name='layer1')(input1)\n",
    "layer2 = layers.Dense(2, activation='relu', name='layer2')(input2)\n",
    "x= layers.concatenate([layer1, layer2])\n",
    "layer3 = layers.Dense(4, name='layers3')(x)\n",
    "model = keras.Model(\n",
    "    inputs=[input1, input2],\n",
    "    outputs=[layer3]\n",
    ")\n",
    "keras.utils.plot_model(model, 'Functional API.png')"
   ]
  },
  {
   "cell_type": "code",
   "execution_count": 15,
   "metadata": {},
   "outputs": [
    {
     "data": {
      "image/png": "[encoded data removed]",
      "text/plain": [
       "<IPython.core.display.Image object>"
      ]
     },
     "execution_count": 15,
     "metadata": {},
     "output_type": "execute_result"
    }
   ],
   "source": [
    "# 使用 Functional API 构建的一个简单模型\n",
    "inputs = keras.Input(shape=(32,))\n",
    "x = layers.Dense(64, activation='relu')(inputs)\n",
    "outputs = layers.Dense(10)(x)\n",
    "mlp = keras.Model(inputs, outputs)\n",
    "\n",
    "keras.utils.plot_model(mlp, 'Function API simple.png')"
   ]
  },
  {
   "cell_type": "code",
   "execution_count": 18,
   "metadata": {},
   "outputs": [],
   "source": [
    "# 使用 subclassing 方式实现上述模型\n",
    "class MLP(keras.Model):\n",
    "    def __init__(self, **kwargs):\n",
    "        super(MLP, self).__init__(**kwargs)\n",
    "        self.dense_1 = layers.Dense(64, activation='relu')\n",
    "        self.dense_2 = layers.Dense(10)\n",
    "    \n",
    "    def call(self, inputs):\n",
    "        x = self.dense_1(inputs)\n",
    "        return self.dense_2(x)\n",
    "\n",
    "# 实例化模型\n",
    "mlp = MLP()\n",
    "_ = mlp(tf.zeros((1, 32)))"
   ]
  },
  {
   "cell_type": "code",
   "execution_count": 19,
   "metadata": {},
   "outputs": [
    {
     "name": "stdout",
     "output_type": "stream",
     "text": [
      "(1, 10, 32)\n"
     ]
    }
   ],
   "source": [
    "# 混合使用 Functional API 和 Subclassing\n",
    "\n",
    "units = 32\n",
    "timesteps= 10\n",
    "input_dim = 5\n",
    "\n",
    "# 用 Functional API 的方式构建一个模型\n",
    "inputs = keras.Input((None, units))\n",
    "x = layers.GlobalAveragePooling1D()(inputs)\n",
    "outputs = layers.Dense(1)(x)\n",
    "model = keras.Model(inputs, outputs)\n",
    "\n",
    "# 用 Subclassing 的方式构建另一个模型\n",
    "class CustomRNN(layers.Layer):\n",
    "    def __init__(self):\n",
    "        super(CustomRNN, self).__init__()\n",
    "        self.units = units\n",
    "        self.projection_1 = layers.Dense(units=units, activation='tanh')\n",
    "        self.projection_2 = layers.Dense(units=units, activation='tanh')\n",
    "        # 在这里调用之前用 Functional API 构建的模型\n",
    "        self.classifier = model\n",
    "    \n",
    "    def call(self, inputs):\n",
    "        outputs = []\n",
    "        state = tf.zeros(shape=(inputs.shape[0], self.units))\n",
    "        for t in range(inputs.shape[1]):\n",
    "            x = inputs[:, t, :]\n",
    "            h = self.projection_1(x)\n",
    "            y = h + self.projection_2(state)\n",
    "            state = y\n",
    "            outputs.append(y)\n",
    "        features = tf.stack(outputs, axis=1)\n",
    "        print(features.shape)\n",
    "        return self.classifier(features)\n",
    "\n",
    "rnn_model = CustomRNN()\n",
    "_ = rnn_model(tf.zeros((1, timesteps, input_dim)))"
   ]
  }
 ],
 "metadata": {
  "kernelspec": {
   "display_name": "Python 3.7.12 ('deep-learning')",
   "language": "python",
   "name": "python3"
  },
  "language_info": {
   "codemirror_mode": {
    "name": "ipython",
    "version": 3
   },
   "file_extension": ".py",
   "mimetype": "text/x-python",
   "name": "python",
   "nbconvert_exporter": "python",
   "pygments_lexer": "ipython3",
   "version": "3.7.12"
  },
  "orig_nbformat": 4,
  "vscode": {
   "interpreter": {
    "hash": "94ab98b4b931eea8da1b5885e6fe9f1cfe685315bc68825de5fd10f928659d37"
   }
  }
 },
 "nbformat": 4,
 "nbformat_minor": 2
}
